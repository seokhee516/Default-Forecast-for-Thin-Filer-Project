{
  "nbformat": 4,
  "nbformat_minor": 0,
  "metadata": {
    "colab": {
      "name": "Untitled8.ipynb",
      "provenance": [],
      "collapsed_sections": [],
      "machine_shape": "hm",
      "mount_file_id": "https://github.com/seokhee516/Project2-Credit-Scoring-System/blob/main/Untitled8.ipynb",
      "authorship_tag": "ABX9TyO1xmhKpeSuPfzuI4mvxH5V",
      "include_colab_link": true
    },
    "kernelspec": {
      "name": "python3",
      "display_name": "Python 3"
    },
    "language_info": {
      "name": "python"
    },
    "accelerator": "GPU",
    "widgets": {
      "application/vnd.jupyter.widget-state+json": {
        "e3ec49f2b1724087ac55890ec17b0f4c": {
          "model_module": "@jupyter-widgets/controls",
          "model_name": "HBoxModel",
          "model_module_version": "1.5.0",
          "state": {
            "_view_name": "HBoxView",
            "_dom_classes": [],
            "_model_name": "HBoxModel",
            "_view_module": "@jupyter-widgets/controls",
            "_model_module_version": "1.5.0",
            "_view_count": null,
            "_view_module_version": "1.5.0",
            "box_style": "",
            "layout": "IPY_MODEL_ddf69c06e4c14148b570b4715b7615d9",
            "_model_module": "@jupyter-widgets/controls",
            "children": [
              "IPY_MODEL_be58b53deffc40ada18cf802b2d37ef9",
              "IPY_MODEL_20008760c01047cc8a36b660be0bbc3e",
              "IPY_MODEL_f42c232b8dc941d48293276899bcc324"
            ]
          }
        },
        "ddf69c06e4c14148b570b4715b7615d9": {
          "model_module": "@jupyter-widgets/base",
          "model_name": "LayoutModel",
          "model_module_version": "1.2.0",
          "state": {
            "_view_name": "LayoutView",
            "grid_template_rows": null,
            "right": null,
            "justify_content": null,
            "_view_module": "@jupyter-widgets/base",
            "overflow": null,
            "_model_module_version": "1.2.0",
            "_view_count": null,
            "flex_flow": null,
            "width": null,
            "min_width": null,
            "border": null,
            "align_items": null,
            "bottom": null,
            "_model_module": "@jupyter-widgets/base",
            "top": null,
            "grid_column": null,
            "overflow_y": null,
            "overflow_x": null,
            "grid_auto_flow": null,
            "grid_area": null,
            "grid_template_columns": null,
            "flex": null,
            "_model_name": "LayoutModel",
            "justify_items": null,
            "grid_row": null,
            "max_height": null,
            "align_content": null,
            "visibility": null,
            "align_self": null,
            "height": null,
            "min_height": null,
            "padding": null,
            "grid_auto_rows": null,
            "grid_gap": null,
            "max_width": null,
            "order": null,
            "_view_module_version": "1.2.0",
            "grid_template_areas": null,
            "object_position": null,
            "object_fit": null,
            "grid_auto_columns": null,
            "margin": null,
            "display": null,
            "left": null
          }
        },
        "be58b53deffc40ada18cf802b2d37ef9": {
          "model_module": "@jupyter-widgets/controls",
          "model_name": "HTMLModel",
          "model_module_version": "1.5.0",
          "state": {
            "_view_name": "HTMLView",
            "style": "IPY_MODEL_3089d42201d8471fb1c47d8d776cbee5",
            "_dom_classes": [],
            "description": "",
            "_model_name": "HTMLModel",
            "placeholder": "​",
            "_view_module": "@jupyter-widgets/controls",
            "_model_module_version": "1.5.0",
            "value": "Summarize dataset: 100%",
            "_view_count": null,
            "_view_module_version": "1.5.0",
            "description_tooltip": null,
            "_model_module": "@jupyter-widgets/controls",
            "layout": "IPY_MODEL_403c379eb75e4bfca4fa7405adf11f43"
          }
        },
        "20008760c01047cc8a36b660be0bbc3e": {
          "model_module": "@jupyter-widgets/controls",
          "model_name": "FloatProgressModel",
          "model_module_version": "1.5.0",
          "state": {
            "_view_name": "ProgressView",
            "style": "IPY_MODEL_f8f25ccab13e4b5d948d7f1ab60c339f",
            "_dom_classes": [],
            "description": "",
            "_model_name": "FloatProgressModel",
            "bar_style": "success",
            "max": 5,
            "_view_module": "@jupyter-widgets/controls",
            "_model_module_version": "1.5.0",
            "value": 5,
            "_view_count": null,
            "_view_module_version": "1.5.0",
            "orientation": "horizontal",
            "min": 0,
            "description_tooltip": null,
            "_model_module": "@jupyter-widgets/controls",
            "layout": "IPY_MODEL_79ba6f13f89c49f6903d1d2d9aa0183b"
          }
        },
        "f42c232b8dc941d48293276899bcc324": {
          "model_module": "@jupyter-widgets/controls",
          "model_name": "HTMLModel",
          "model_module_version": "1.5.0",
          "state": {
            "_view_name": "HTMLView",
            "style": "IPY_MODEL_66593bc578a94c8ea8adf22691d6aa73",
            "_dom_classes": [],
            "description": "",
            "_model_name": "HTMLModel",
            "placeholder": "​",
            "_view_module": "@jupyter-widgets/controls",
            "_model_module_version": "1.5.0",
            "value": " 775/775 [02:44&lt;00:00,  3.26it/s, Completed]",
            "_view_count": null,
            "_view_module_version": "1.5.0",
            "description_tooltip": null,
            "_model_module": "@jupyter-widgets/controls",
            "layout": "IPY_MODEL_bc2043f38c1a459ebf8e8bc829f4acc6"
          }
        },
        "3089d42201d8471fb1c47d8d776cbee5": {
          "model_module": "@jupyter-widgets/controls",
          "model_name": "DescriptionStyleModel",
          "model_module_version": "1.5.0",
          "state": {
            "_view_name": "StyleView",
            "_model_name": "DescriptionStyleModel",
            "description_width": "",
            "_view_module": "@jupyter-widgets/base",
            "_model_module_version": "1.5.0",
            "_view_count": null,
            "_view_module_version": "1.2.0",
            "_model_module": "@jupyter-widgets/controls"
          }
        },
        "403c379eb75e4bfca4fa7405adf11f43": {
          "model_module": "@jupyter-widgets/base",
          "model_name": "LayoutModel",
          "model_module_version": "1.2.0",
          "state": {
            "_view_name": "LayoutView",
            "grid_template_rows": null,
            "right": null,
            "justify_content": null,
            "_view_module": "@jupyter-widgets/base",
            "overflow": null,
            "_model_module_version": "1.2.0",
            "_view_count": null,
            "flex_flow": null,
            "width": null,
            "min_width": null,
            "border": null,
            "align_items": null,
            "bottom": null,
            "_model_module": "@jupyter-widgets/base",
            "top": null,
            "grid_column": null,
            "overflow_y": null,
            "overflow_x": null,
            "grid_auto_flow": null,
            "grid_area": null,
            "grid_template_columns": null,
            "flex": null,
            "_model_name": "LayoutModel",
            "justify_items": null,
            "grid_row": null,
            "max_height": null,
            "align_content": null,
            "visibility": null,
            "align_self": null,
            "height": null,
            "min_height": null,
            "padding": null,
            "grid_auto_rows": null,
            "grid_gap": null,
            "max_width": null,
            "order": null,
            "_view_module_version": "1.2.0",
            "grid_template_areas": null,
            "object_position": null,
            "object_fit": null,
            "grid_auto_columns": null,
            "margin": null,
            "display": null,
            "left": null
          }
        },
        "f8f25ccab13e4b5d948d7f1ab60c339f": {
          "model_module": "@jupyter-widgets/controls",
          "model_name": "ProgressStyleModel",
          "model_module_version": "1.5.0",
          "state": {
            "_view_name": "StyleView",
            "_model_name": "ProgressStyleModel",
            "description_width": "",
            "_view_module": "@jupyter-widgets/base",
            "_model_module_version": "1.5.0",
            "_view_count": null,
            "_view_module_version": "1.2.0",
            "bar_color": null,
            "_model_module": "@jupyter-widgets/controls"
          }
        },
        "79ba6f13f89c49f6903d1d2d9aa0183b": {
          "model_module": "@jupyter-widgets/base",
          "model_name": "LayoutModel",
          "model_module_version": "1.2.0",
          "state": {
            "_view_name": "LayoutView",
            "grid_template_rows": null,
            "right": null,
            "justify_content": null,
            "_view_module": "@jupyter-widgets/base",
            "overflow": null,
            "_model_module_version": "1.2.0",
            "_view_count": null,
            "flex_flow": null,
            "width": null,
            "min_width": null,
            "border": null,
            "align_items": null,
            "bottom": null,
            "_model_module": "@jupyter-widgets/base",
            "top": null,
            "grid_column": null,
            "overflow_y": null,
            "overflow_x": null,
            "grid_auto_flow": null,
            "grid_area": null,
            "grid_template_columns": null,
            "flex": null,
            "_model_name": "LayoutModel",
            "justify_items": null,
            "grid_row": null,
            "max_height": null,
            "align_content": null,
            "visibility": null,
            "align_self": null,
            "height": null,
            "min_height": null,
            "padding": null,
            "grid_auto_rows": null,
            "grid_gap": null,
            "max_width": null,
            "order": null,
            "_view_module_version": "1.2.0",
            "grid_template_areas": null,
            "object_position": null,
            "object_fit": null,
            "grid_auto_columns": null,
            "margin": null,
            "display": null,
            "left": null
          }
        },
        "66593bc578a94c8ea8adf22691d6aa73": {
          "model_module": "@jupyter-widgets/controls",
          "model_name": "DescriptionStyleModel",
          "model_module_version": "1.5.0",
          "state": {
            "_view_name": "StyleView",
            "_model_name": "DescriptionStyleModel",
            "description_width": "",
            "_view_module": "@jupyter-widgets/base",
            "_model_module_version": "1.5.0",
            "_view_count": null,
            "_view_module_version": "1.2.0",
            "_model_module": "@jupyter-widgets/controls"
          }
        },
        "bc2043f38c1a459ebf8e8bc829f4acc6": {
          "model_module": "@jupyter-widgets/base",
          "model_name": "LayoutModel",
          "model_module_version": "1.2.0",
          "state": {
            "_view_name": "LayoutView",
            "grid_template_rows": null,
            "right": null,
            "justify_content": null,
            "_view_module": "@jupyter-widgets/base",
            "overflow": null,
            "_model_module_version": "1.2.0",
            "_view_count": null,
            "flex_flow": null,
            "width": null,
            "min_width": null,
            "border": null,
            "align_items": null,
            "bottom": null,
            "_model_module": "@jupyter-widgets/base",
            "top": null,
            "grid_column": null,
            "overflow_y": null,
            "overflow_x": null,
            "grid_auto_flow": null,
            "grid_area": null,
            "grid_template_columns": null,
            "flex": null,
            "_model_name": "LayoutModel",
            "justify_items": null,
            "grid_row": null,
            "max_height": null,
            "align_content": null,
            "visibility": null,
            "align_self": null,
            "height": null,
            "min_height": null,
            "padding": null,
            "grid_auto_rows": null,
            "grid_gap": null,
            "max_width": null,
            "order": null,
            "_view_module_version": "1.2.0",
            "grid_template_areas": null,
            "object_position": null,
            "object_fit": null,
            "grid_auto_columns": null,
            "margin": null,
            "display": null,
            "left": null
          }
        },
        "b40095468e51467a90c6d433811e7944": {
          "model_module": "@jupyter-widgets/controls",
          "model_name": "HBoxModel",
          "model_module_version": "1.5.0",
          "state": {
            "_view_name": "HBoxView",
            "_dom_classes": [],
            "_model_name": "HBoxModel",
            "_view_module": "@jupyter-widgets/controls",
            "_model_module_version": "1.5.0",
            "_view_count": null,
            "_view_module_version": "1.5.0",
            "box_style": "",
            "layout": "IPY_MODEL_e063484a45594bbf8522857c3b550e31",
            "_model_module": "@jupyter-widgets/controls",
            "children": [
              "IPY_MODEL_bccb9e1b70d14094a1f2e6a15cebab8c",
              "IPY_MODEL_d237c5fa925a4f4fac68c6fade9f8fbf",
              "IPY_MODEL_6026eaa14dfb47dc86cce8e972cf0ade"
            ]
          }
        },
        "e063484a45594bbf8522857c3b550e31": {
          "model_module": "@jupyter-widgets/base",
          "model_name": "LayoutModel",
          "model_module_version": "1.2.0",
          "state": {
            "_view_name": "LayoutView",
            "grid_template_rows": null,
            "right": null,
            "justify_content": null,
            "_view_module": "@jupyter-widgets/base",
            "overflow": null,
            "_model_module_version": "1.2.0",
            "_view_count": null,
            "flex_flow": null,
            "width": null,
            "min_width": null,
            "border": null,
            "align_items": null,
            "bottom": null,
            "_model_module": "@jupyter-widgets/base",
            "top": null,
            "grid_column": null,
            "overflow_y": null,
            "overflow_x": null,
            "grid_auto_flow": null,
            "grid_area": null,
            "grid_template_columns": null,
            "flex": null,
            "_model_name": "LayoutModel",
            "justify_items": null,
            "grid_row": null,
            "max_height": null,
            "align_content": null,
            "visibility": null,
            "align_self": null,
            "height": null,
            "min_height": null,
            "padding": null,
            "grid_auto_rows": null,
            "grid_gap": null,
            "max_width": null,
            "order": null,
            "_view_module_version": "1.2.0",
            "grid_template_areas": null,
            "object_position": null,
            "object_fit": null,
            "grid_auto_columns": null,
            "margin": null,
            "display": null,
            "left": null
          }
        },
        "bccb9e1b70d14094a1f2e6a15cebab8c": {
          "model_module": "@jupyter-widgets/controls",
          "model_name": "HTMLModel",
          "model_module_version": "1.5.0",
          "state": {
            "_view_name": "HTMLView",
            "style": "IPY_MODEL_9a2ae4bc19694b399b99df05fa228b32",
            "_dom_classes": [],
            "description": "",
            "_model_name": "HTMLModel",
            "placeholder": "​",
            "_view_module": "@jupyter-widgets/controls",
            "_model_module_version": "1.5.0",
            "value": "Generate report structure: 100%",
            "_view_count": null,
            "_view_module_version": "1.5.0",
            "description_tooltip": null,
            "_model_module": "@jupyter-widgets/controls",
            "layout": "IPY_MODEL_fa05682500e5490eb1b9a75949c64de1"
          }
        },
        "d237c5fa925a4f4fac68c6fade9f8fbf": {
          "model_module": "@jupyter-widgets/controls",
          "model_name": "FloatProgressModel",
          "model_module_version": "1.5.0",
          "state": {
            "_view_name": "ProgressView",
            "style": "IPY_MODEL_83e1f2d9fab04a3aafee46e15006ff28",
            "_dom_classes": [],
            "description": "",
            "_model_name": "FloatProgressModel",
            "bar_style": "success",
            "max": 1,
            "_view_module": "@jupyter-widgets/controls",
            "_model_module_version": "1.5.0",
            "value": 1,
            "_view_count": null,
            "_view_module_version": "1.5.0",
            "orientation": "horizontal",
            "min": 0,
            "description_tooltip": null,
            "_model_module": "@jupyter-widgets/controls",
            "layout": "IPY_MODEL_77dcf28e31d34a7fb6bde8e62f0a39f2"
          }
        },
        "6026eaa14dfb47dc86cce8e972cf0ade": {
          "model_module": "@jupyter-widgets/controls",
          "model_name": "HTMLModel",
          "model_module_version": "1.5.0",
          "state": {
            "_view_name": "HTMLView",
            "style": "IPY_MODEL_cf7af1f0542249878d56249f1c079ddd",
            "_dom_classes": [],
            "description": "",
            "_model_name": "HTMLModel",
            "placeholder": "​",
            "_view_module": "@jupyter-widgets/controls",
            "_model_module_version": "1.5.0",
            "value": " 1/1 [00:13&lt;00:00, 13.91s/it]",
            "_view_count": null,
            "_view_module_version": "1.5.0",
            "description_tooltip": null,
            "_model_module": "@jupyter-widgets/controls",
            "layout": "IPY_MODEL_e72d2f6a6397445aa4c3b836da23f93a"
          }
        },
        "9a2ae4bc19694b399b99df05fa228b32": {
          "model_module": "@jupyter-widgets/controls",
          "model_name": "DescriptionStyleModel",
          "model_module_version": "1.5.0",
          "state": {
            "_view_name": "StyleView",
            "_model_name": "DescriptionStyleModel",
            "description_width": "",
            "_view_module": "@jupyter-widgets/base",
            "_model_module_version": "1.5.0",
            "_view_count": null,
            "_view_module_version": "1.2.0",
            "_model_module": "@jupyter-widgets/controls"
          }
        },
        "fa05682500e5490eb1b9a75949c64de1": {
          "model_module": "@jupyter-widgets/base",
          "model_name": "LayoutModel",
          "model_module_version": "1.2.0",
          "state": {
            "_view_name": "LayoutView",
            "grid_template_rows": null,
            "right": null,
            "justify_content": null,
            "_view_module": "@jupyter-widgets/base",
            "overflow": null,
            "_model_module_version": "1.2.0",
            "_view_count": null,
            "flex_flow": null,
            "width": null,
            "min_width": null,
            "border": null,
            "align_items": null,
            "bottom": null,
            "_model_module": "@jupyter-widgets/base",
            "top": null,
            "grid_column": null,
            "overflow_y": null,
            "overflow_x": null,
            "grid_auto_flow": null,
            "grid_area": null,
            "grid_template_columns": null,
            "flex": null,
            "_model_name": "LayoutModel",
            "justify_items": null,
            "grid_row": null,
            "max_height": null,
            "align_content": null,
            "visibility": null,
            "align_self": null,
            "height": null,
            "min_height": null,
            "padding": null,
            "grid_auto_rows": null,
            "grid_gap": null,
            "max_width": null,
            "order": null,
            "_view_module_version": "1.2.0",
            "grid_template_areas": null,
            "object_position": null,
            "object_fit": null,
            "grid_auto_columns": null,
            "margin": null,
            "display": null,
            "left": null
          }
        },
        "83e1f2d9fab04a3aafee46e15006ff28": {
          "model_module": "@jupyter-widgets/controls",
          "model_name": "ProgressStyleModel",
          "model_module_version": "1.5.0",
          "state": {
            "_view_name": "StyleView",
            "_model_name": "ProgressStyleModel",
            "description_width": "",
            "_view_module": "@jupyter-widgets/base",
            "_model_module_version": "1.5.0",
            "_view_count": null,
            "_view_module_version": "1.2.0",
            "bar_color": null,
            "_model_module": "@jupyter-widgets/controls"
          }
        },
        "77dcf28e31d34a7fb6bde8e62f0a39f2": {
          "model_module": "@jupyter-widgets/base",
          "model_name": "LayoutModel",
          "model_module_version": "1.2.0",
          "state": {
            "_view_name": "LayoutView",
            "grid_template_rows": null,
            "right": null,
            "justify_content": null,
            "_view_module": "@jupyter-widgets/base",
            "overflow": null,
            "_model_module_version": "1.2.0",
            "_view_count": null,
            "flex_flow": null,
            "width": null,
            "min_width": null,
            "border": null,
            "align_items": null,
            "bottom": null,
            "_model_module": "@jupyter-widgets/base",
            "top": null,
            "grid_column": null,
            "overflow_y": null,
            "overflow_x": null,
            "grid_auto_flow": null,
            "grid_area": null,
            "grid_template_columns": null,
            "flex": null,
            "_model_name": "LayoutModel",
            "justify_items": null,
            "grid_row": null,
            "max_height": null,
            "align_content": null,
            "visibility": null,
            "align_self": null,
            "height": null,
            "min_height": null,
            "padding": null,
            "grid_auto_rows": null,
            "grid_gap": null,
            "max_width": null,
            "order": null,
            "_view_module_version": "1.2.0",
            "grid_template_areas": null,
            "object_position": null,
            "object_fit": null,
            "grid_auto_columns": null,
            "margin": null,
            "display": null,
            "left": null
          }
        },
        "cf7af1f0542249878d56249f1c079ddd": {
          "model_module": "@jupyter-widgets/controls",
          "model_name": "DescriptionStyleModel",
          "model_module_version": "1.5.0",
          "state": {
            "_view_name": "StyleView",
            "_model_name": "DescriptionStyleModel",
            "description_width": "",
            "_view_module": "@jupyter-widgets/base",
            "_model_module_version": "1.5.0",
            "_view_count": null,
            "_view_module_version": "1.2.0",
            "_model_module": "@jupyter-widgets/controls"
          }
        },
        "e72d2f6a6397445aa4c3b836da23f93a": {
          "model_module": "@jupyter-widgets/base",
          "model_name": "LayoutModel",
          "model_module_version": "1.2.0",
          "state": {
            "_view_name": "LayoutView",
            "grid_template_rows": null,
            "right": null,
            "justify_content": null,
            "_view_module": "@jupyter-widgets/base",
            "overflow": null,
            "_model_module_version": "1.2.0",
            "_view_count": null,
            "flex_flow": null,
            "width": null,
            "min_width": null,
            "border": null,
            "align_items": null,
            "bottom": null,
            "_model_module": "@jupyter-widgets/base",
            "top": null,
            "grid_column": null,
            "overflow_y": null,
            "overflow_x": null,
            "grid_auto_flow": null,
            "grid_area": null,
            "grid_template_columns": null,
            "flex": null,
            "_model_name": "LayoutModel",
            "justify_items": null,
            "grid_row": null,
            "max_height": null,
            "align_content": null,
            "visibility": null,
            "align_self": null,
            "height": null,
            "min_height": null,
            "padding": null,
            "grid_auto_rows": null,
            "grid_gap": null,
            "max_width": null,
            "order": null,
            "_view_module_version": "1.2.0",
            "grid_template_areas": null,
            "object_position": null,
            "object_fit": null,
            "grid_auto_columns": null,
            "margin": null,
            "display": null,
            "left": null
          }
        },
        "a29672659129401cbe8cb6c825e1d625": {
          "model_module": "@jupyter-widgets/controls",
          "model_name": "HBoxModel",
          "model_module_version": "1.5.0",
          "state": {
            "_view_name": "HBoxView",
            "_dom_classes": [],
            "_model_name": "HBoxModel",
            "_view_module": "@jupyter-widgets/controls",
            "_model_module_version": "1.5.0",
            "_view_count": null,
            "_view_module_version": "1.5.0",
            "box_style": "",
            "layout": "IPY_MODEL_c274911d4ea4408fbb64373560d06c02",
            "_model_module": "@jupyter-widgets/controls",
            "children": [
              "IPY_MODEL_dd1a2d87641e4319b6f9429bc39e01b8",
              "IPY_MODEL_038767aa35e64d26b622867ad9c7dc88",
              "IPY_MODEL_e8f336a54ae342899d9f0472b575b39f"
            ]
          }
        },
        "c274911d4ea4408fbb64373560d06c02": {
          "model_module": "@jupyter-widgets/base",
          "model_name": "LayoutModel",
          "model_module_version": "1.2.0",
          "state": {
            "_view_name": "LayoutView",
            "grid_template_rows": null,
            "right": null,
            "justify_content": null,
            "_view_module": "@jupyter-widgets/base",
            "overflow": null,
            "_model_module_version": "1.2.0",
            "_view_count": null,
            "flex_flow": null,
            "width": null,
            "min_width": null,
            "border": null,
            "align_items": null,
            "bottom": null,
            "_model_module": "@jupyter-widgets/base",
            "top": null,
            "grid_column": null,
            "overflow_y": null,
            "overflow_x": null,
            "grid_auto_flow": null,
            "grid_area": null,
            "grid_template_columns": null,
            "flex": null,
            "_model_name": "LayoutModel",
            "justify_items": null,
            "grid_row": null,
            "max_height": null,
            "align_content": null,
            "visibility": null,
            "align_self": null,
            "height": null,
            "min_height": null,
            "padding": null,
            "grid_auto_rows": null,
            "grid_gap": null,
            "max_width": null,
            "order": null,
            "_view_module_version": "1.2.0",
            "grid_template_areas": null,
            "object_position": null,
            "object_fit": null,
            "grid_auto_columns": null,
            "margin": null,
            "display": null,
            "left": null
          }
        },
        "dd1a2d87641e4319b6f9429bc39e01b8": {
          "model_module": "@jupyter-widgets/controls",
          "model_name": "HTMLModel",
          "model_module_version": "1.5.0",
          "state": {
            "_view_name": "HTMLView",
            "style": "IPY_MODEL_553c81eb548443dbb50efb8f550a5f6d",
            "_dom_classes": [],
            "description": "",
            "_model_name": "HTMLModel",
            "placeholder": "​",
            "_view_module": "@jupyter-widgets/controls",
            "_model_module_version": "1.5.0",
            "value": "Render HTML: 100%",
            "_view_count": null,
            "_view_module_version": "1.5.0",
            "description_tooltip": null,
            "_model_module": "@jupyter-widgets/controls",
            "layout": "IPY_MODEL_7d9d6fc9d1084e7593e2ad040f93eac9"
          }
        },
        "038767aa35e64d26b622867ad9c7dc88": {
          "model_module": "@jupyter-widgets/controls",
          "model_name": "FloatProgressModel",
          "model_module_version": "1.5.0",
          "state": {
            "_view_name": "ProgressView",
            "style": "IPY_MODEL_122e95050b914877978506ec8cce4b43",
            "_dom_classes": [],
            "description": "",
            "_model_name": "FloatProgressModel",
            "bar_style": "success",
            "max": 1,
            "_view_module": "@jupyter-widgets/controls",
            "_model_module_version": "1.5.0",
            "value": 1,
            "_view_count": null,
            "_view_module_version": "1.5.0",
            "orientation": "horizontal",
            "min": 0,
            "description_tooltip": null,
            "_model_module": "@jupyter-widgets/controls",
            "layout": "IPY_MODEL_afebf56285a5469baf1218e0e17196da"
          }
        },
        "e8f336a54ae342899d9f0472b575b39f": {
          "model_module": "@jupyter-widgets/controls",
          "model_name": "HTMLModel",
          "model_module_version": "1.5.0",
          "state": {
            "_view_name": "HTMLView",
            "style": "IPY_MODEL_8e2e9a826fac4dbd9e5e8eaa4f15e562",
            "_dom_classes": [],
            "description": "",
            "_model_name": "HTMLModel",
            "placeholder": "​",
            "_view_module": "@jupyter-widgets/controls",
            "_model_module_version": "1.5.0",
            "value": " 1/1 [00:21&lt;00:00, 21.07s/it]",
            "_view_count": null,
            "_view_module_version": "1.5.0",
            "description_tooltip": null,
            "_model_module": "@jupyter-widgets/controls",
            "layout": "IPY_MODEL_24930991f8424f02934d294b2d50ecc4"
          }
        },
        "553c81eb548443dbb50efb8f550a5f6d": {
          "model_module": "@jupyter-widgets/controls",
          "model_name": "DescriptionStyleModel",
          "model_module_version": "1.5.0",
          "state": {
            "_view_name": "StyleView",
            "_model_name": "DescriptionStyleModel",
            "description_width": "",
            "_view_module": "@jupyter-widgets/base",
            "_model_module_version": "1.5.0",
            "_view_count": null,
            "_view_module_version": "1.2.0",
            "_model_module": "@jupyter-widgets/controls"
          }
        },
        "7d9d6fc9d1084e7593e2ad040f93eac9": {
          "model_module": "@jupyter-widgets/base",
          "model_name": "LayoutModel",
          "model_module_version": "1.2.0",
          "state": {
            "_view_name": "LayoutView",
            "grid_template_rows": null,
            "right": null,
            "justify_content": null,
            "_view_module": "@jupyter-widgets/base",
            "overflow": null,
            "_model_module_version": "1.2.0",
            "_view_count": null,
            "flex_flow": null,
            "width": null,
            "min_width": null,
            "border": null,
            "align_items": null,
            "bottom": null,
            "_model_module": "@jupyter-widgets/base",
            "top": null,
            "grid_column": null,
            "overflow_y": null,
            "overflow_x": null,
            "grid_auto_flow": null,
            "grid_area": null,
            "grid_template_columns": null,
            "flex": null,
            "_model_name": "LayoutModel",
            "justify_items": null,
            "grid_row": null,
            "max_height": null,
            "align_content": null,
            "visibility": null,
            "align_self": null,
            "height": null,
            "min_height": null,
            "padding": null,
            "grid_auto_rows": null,
            "grid_gap": null,
            "max_width": null,
            "order": null,
            "_view_module_version": "1.2.0",
            "grid_template_areas": null,
            "object_position": null,
            "object_fit": null,
            "grid_auto_columns": null,
            "margin": null,
            "display": null,
            "left": null
          }
        },
        "122e95050b914877978506ec8cce4b43": {
          "model_module": "@jupyter-widgets/controls",
          "model_name": "ProgressStyleModel",
          "model_module_version": "1.5.0",
          "state": {
            "_view_name": "StyleView",
            "_model_name": "ProgressStyleModel",
            "description_width": "",
            "_view_module": "@jupyter-widgets/base",
            "_model_module_version": "1.5.0",
            "_view_count": null,
            "_view_module_version": "1.2.0",
            "bar_color": null,
            "_model_module": "@jupyter-widgets/controls"
          }
        },
        "afebf56285a5469baf1218e0e17196da": {
          "model_module": "@jupyter-widgets/base",
          "model_name": "LayoutModel",
          "model_module_version": "1.2.0",
          "state": {
            "_view_name": "LayoutView",
            "grid_template_rows": null,
            "right": null,
            "justify_content": null,
            "_view_module": "@jupyter-widgets/base",
            "overflow": null,
            "_model_module_version": "1.2.0",
            "_view_count": null,
            "flex_flow": null,
            "width": null,
            "min_width": null,
            "border": null,
            "align_items": null,
            "bottom": null,
            "_model_module": "@jupyter-widgets/base",
            "top": null,
            "grid_column": null,
            "overflow_y": null,
            "overflow_x": null,
            "grid_auto_flow": null,
            "grid_area": null,
            "grid_template_columns": null,
            "flex": null,
            "_model_name": "LayoutModel",
            "justify_items": null,
            "grid_row": null,
            "max_height": null,
            "align_content": null,
            "visibility": null,
            "align_self": null,
            "height": null,
            "min_height": null,
            "padding": null,
            "grid_auto_rows": null,
            "grid_gap": null,
            "max_width": null,
            "order": null,
            "_view_module_version": "1.2.0",
            "grid_template_areas": null,
            "object_position": null,
            "object_fit": null,
            "grid_auto_columns": null,
            "margin": null,
            "display": null,
            "left": null
          }
        },
        "8e2e9a826fac4dbd9e5e8eaa4f15e562": {
          "model_module": "@jupyter-widgets/controls",
          "model_name": "DescriptionStyleModel",
          "model_module_version": "1.5.0",
          "state": {
            "_view_name": "StyleView",
            "_model_name": "DescriptionStyleModel",
            "description_width": "",
            "_view_module": "@jupyter-widgets/base",
            "_model_module_version": "1.5.0",
            "_view_count": null,
            "_view_module_version": "1.2.0",
            "_model_module": "@jupyter-widgets/controls"
          }
        },
        "24930991f8424f02934d294b2d50ecc4": {
          "model_module": "@jupyter-widgets/base",
          "model_name": "LayoutModel",
          "model_module_version": "1.2.0",
          "state": {
            "_view_name": "LayoutView",
            "grid_template_rows": null,
            "right": null,
            "justify_content": null,
            "_view_module": "@jupyter-widgets/base",
            "overflow": null,
            "_model_module_version": "1.2.0",
            "_view_count": null,
            "flex_flow": null,
            "width": null,
            "min_width": null,
            "border": null,
            "align_items": null,
            "bottom": null,
            "_model_module": "@jupyter-widgets/base",
            "top": null,
            "grid_column": null,
            "overflow_y": null,
            "overflow_x": null,
            "grid_auto_flow": null,
            "grid_area": null,
            "grid_template_columns": null,
            "flex": null,
            "_model_name": "LayoutModel",
            "justify_items": null,
            "grid_row": null,
            "max_height": null,
            "align_content": null,
            "visibility": null,
            "align_self": null,
            "height": null,
            "min_height": null,
            "padding": null,
            "grid_auto_rows": null,
            "grid_gap": null,
            "max_width": null,
            "order": null,
            "_view_module_version": "1.2.0",
            "grid_template_areas": null,
            "object_position": null,
            "object_fit": null,
            "grid_auto_columns": null,
            "margin": null,
            "display": null,
            "left": null
          }
        }
      }
    }
  },
  "cells": [
    {
      "cell_type": "markdown",
      "metadata": {
        "id": "view-in-github",
        "colab_type": "text"
      },
      "source": [
        "<a href=\"https://colab.research.google.com/github/seokhee516/Project2-Credit-Scoring-System/blob/main/%EC%B5%9C%EC%A2%85.ipynb\" target=\"_parent\"><img src=\"https://colab.research.google.com/assets/colab-badge.svg\" alt=\"Open In Colab\"/></a>"
      ]
    },
    {
      "cell_type": "markdown",
      "metadata": {
        "id": "_IPICc35DWZt"
      },
      "source": [
        "# 1. 문제정의\n",
        "\n",
        "이번 프로젝트 주제는 \"**씬파일러를 위한 신용평가 예측모형**\" 입니다.\n",
        "씬파일러(Thin filer)란, 금융 거래가 적거나 없어 관련 서류가 얇은 금융고객을 의미합니다. 주로 사회초년생, 주부, 은퇴자들이 이에 속해 있으며, 이들은 중저신용등급으로 책정되어 제도권 금융을 이용할 기회가 줄어들게 됩니다. 이처럼 금융이력이 부족한 이들의 채무불이행을 예측하고, 더 나아가 신파일러들의 금융 불이익을 해소 할 수 있는 신용평가를 제공하는 것이 이번 프로젝트의 목적입니다.\n",
        "\n",
        "프로젝트에 사용할 데이터는 \"**Lending Club(렌딩 클럽)**\" 데이터입니다.\n",
        "렌딩 클럽은 미국 유명 **P2P 대출 업체**로서, 신용등급이 낮아 제도권 금융기관에서 대출을 받을 수 없는 **씬파일러에게 훌륭한 대안금융 역할**을 하고 있습니다. 캐글에서 제공하고 있는 'Lending Club 2007-2020Q3' 데이터세트의 2018년부터 2020년 3분기 데이터를 활용하여 본 프로젝트를 진행하겠습니다.\n",
        "\n",
        "렌딩 클럽 데이터는 대출상태(loan_status)를 상환, 유지, 연체, 회수불능 등 8개로 분류하였습니다. 이를 정상(상환, 유지)과 불량(연체, 회수불능)으로 이진 분류 문제를 풀어내겠습니다."
      ]
    },
    {
      "cell_type": "markdown",
      "metadata": {
        "id": "Du62EKAfDpv-"
      },
      "source": [
        ""
      ]
    },
    {
      "cell_type": "markdown",
      "metadata": {
        "id": "WhIVcb8-x-AU"
      },
      "source": [
        "# 2. EDA 및 데이터 전처리"
      ]
    },
    {
      "cell_type": "markdown",
      "metadata": {
        "id": "IExl9S0pyFb3"
      },
      "source": [
        "## 2.1 데이터 및 모듈 불러오기"
      ]
    },
    {
      "cell_type": "code",
      "metadata": {
        "colab": {
          "base_uri": "https://localhost:8080/"
        },
        "id": "4HXGlldSp6o0",
        "outputId": "faa26973-3d74-42b5-9192-795f3d34f0ac"
      },
      "source": [
        "import pandas as pd\n",
        "import numpy as np\n",
        "import pandas_profiling\n",
        "\n",
        "from sklearn.model_selection import train_test_split\n",
        "from sklearn.preprocessing import StandardScaler\n",
        "from category_encoders import OrdinalEncoder\n",
        "from sklearn.impute import SimpleImputer\n",
        "from sklearn.pipeline import make_pipeline\n",
        "from imblearn.over_sampling import SMOTE\n",
        "\n",
        "from sklearn.linear_model import LogisticRegression\n",
        "from sklearn.tree import DecisionTreeClassifier\n",
        "from sklearn.ensemble import RandomForestClassifier\n",
        "from xgboost import XGBClassifier\n",
        "from lightgbm import LGBMClassifier\n",
        "from catboost import CatBoostClassifier\n",
        "\n",
        "from sklearn.metrics import roc_auc_score\n",
        "from sklearn.metrics import confusion_matrix\n",
        "from sklearn.metrics import accuracy_score\n",
        "from sklearn.metrics import f1_score\n",
        "from sklearn.metrics import plot_confusion_matrix\n",
        "from scipy.stats import randint, uniform\n",
        "\n",
        "from sklearn.model_selection import RandomizedSearchCV\n",
        "from sklearn_genetic import GASearchCV\n",
        "from sklearn_genetic.space import Integer, Categorical, Continuous\n",
        "from sklearn_genetic.callbacks import DeltaThreshold, TimerStopping\n",
        "from sklearn.pipeline import Pipeline\n",
        "from sklearn.model_selection import KFold\n",
        "\n",
        "\n",
        "from pdpbox.pdp import pdp_isolate, pdp_plot\n",
        "from pdpbox.pdp import pdp_interact, pdp_interact_plot\n",
        "import shap\n",
        "\n",
        "import matplotlib.pyplot as plt\n",
        "import seaborn as sns\n",
        "%matplotlib inline\n",
        "import warnings\n",
        "warnings.filterwarnings(action='ignore')"
      ],
      "execution_count": 1,
      "outputs": [
        {
          "output_type": "stream",
          "name": "stderr",
          "text": [
            "/usr/local/lib/python3.7/dist-packages/statsmodels/tools/_testing.py:19: FutureWarning: pandas.util.testing is deprecated. Use the functions in the public API at pandas.testing instead.\n",
            "  import pandas.util.testing as tm\n"
          ]
        }
      ]
    },
    {
      "cell_type": "code",
      "metadata": {
        "id": "SpPLc4rFrr6S"
      },
      "source": [
        "df = pd.read_csv('/content/drive/MyDrive/Project2-Credit-Scoring-System/LendingClub_Loan_status_2018-2020Q3.csv').iloc[:,1:]"
      ],
      "execution_count": 2,
      "outputs": []
    },
    {
      "cell_type": "markdown",
      "metadata": {
        "id": "ZGOmdl4ryJvz"
      },
      "source": [
        "## 2.2 EDA 및 데이터 전처리"
      ]
    },
    {
      "cell_type": "code",
      "metadata": {
        "id": "RZwIgFB1ugnQ"
      },
      "source": [
        "# 19년 ~ 20년 데이터 사용\n",
        "sepc = df['issue_d']>='Sep-2019'\n",
        "octc = (df['issue_d']>='Oct-2019') & (df['issue_d']<='Oct-2020')\n",
        "novc = (df['issue_d']>='Nov-2019') & (df['issue_d']<='Nov-2020')\n",
        "mayc = (df['issue_d']>='May-2019') & (df['issue_d']<='May-2020')\n",
        "df = df[sepc | octc | novc | mayc].reset_index().iloc[:,2:]"
      ],
      "execution_count": 3,
      "outputs": []
    },
    {
      "cell_type": "code",
      "metadata": {
        "id": "NVCN5pm9vVeb"
      },
      "source": [
        "# loan_status 변수를 정상(0)과 불량(1)으로 이진 분류하여 Target 변수 생성\n",
        "df.loc[(df['loan_status']== 'Fully Paid')|(df['loan_status']== 'Current'),\"Target\"]= 0 # 정상(0)\n",
        "df.loc[(df['loan_status']== 'Late (31-120 days)')|(df['loan_status']== 'Charged Off')|\n",
        "       (df['loan_status']== 'In Grace Period')|(df['loan_status']== 'Late (16-30 days)')|\n",
        "       (df['loan_status']== 'Default')|(df['loan_status']== 'Issued')|\n",
        "       (df['loan_status']== 'Late (31-120 days)'),'Target'] = 1 # 불량(1)"
      ],
      "execution_count": 4,
      "outputs": []
    },
    {
      "cell_type": "code",
      "metadata": {
        "id": "yHUAqNIUrsP7"
      },
      "source": [
        "# 141 특성 중 29개만 사용\n",
        "columns = ['annual_inc', 'inq_last_6mths', 'home_ownership','purpose', 'last_fico_range_high', 'last_fico_range_low',\n",
        "           'sub_grade', 'int_rate', 'installment','tot_cur_bal', 'avg_cur_bal', \n",
        "           'mo_sin_old_rev_tl_op', 'mo_sin_rcnt_rev_tl_op', 'mo_sin_rcnt_tl', \n",
        "           'mort_acc', 'num_il_tl', 'emp_length', 'num_tl_op_past_12m', 'revol_bal',\n",
        "           'total_bc_limit', 'dti', 'out_prncp', 'out_prncp_inv', 'total_pymnt',\n",
        "           'total_pymnt_inv', 'total_rec_prncp', 'total_rec_int', 'total_rec_late_fee', 'tot_hi_cred_lim',\n",
        "           'Target', 'issue_d'] # id, Target, issue_d: Date\n",
        "df = df[columns]\n",
        "df = df.dropna()"
      ],
      "execution_count": 5,
      "outputs": []
    },
    {
      "cell_type": "code",
      "metadata": {
        "id": "44g2PfeJ8QsF"
      },
      "source": [
        "df.reset_index(inplace=True)\n",
        "df.rename(columns = {'index':'id'},inplace=True)"
      ],
      "execution_count": 6,
      "outputs": []
    },
    {
      "cell_type": "code",
      "metadata": {
        "id": "JckJZmOlwE98"
      },
      "source": [
        "# test set 만들기\n",
        "test = df[(df['issue_d'] == 'Sep-2020') | (df['issue_d'] == 'May-2020')]\n",
        "train = df.drop(test.index)\n",
        "\n",
        "# validation set 만들기\n",
        "train, val = train_test_split(train, train_size = 0.8, stratify=train['Target'], random_state=10)"
      ],
      "execution_count": 7,
      "outputs": []
    },
    {
      "cell_type": "code",
      "metadata": {
        "id": "uJxYJcV409BM"
      },
      "source": [
        "def engineer(df):\n",
        "    df = df.copy()\n",
        "\n",
        "    # emp_length 범주형 변수 차원 증가 방지를 위해 범주군으로 묶음\n",
        "    df.loc[(df['emp_length']== '< 1 year')|(df['emp_length']== '1 year')|\n",
        "           (df['emp_length']== '2 years')|(df['emp_length']== '3 years'),'emp_length'] = 'less than 3 years'\n",
        "    df.loc[(df['emp_length']== '4 years')|(df['emp_length']== '5 years')|\n",
        "           (df['emp_length']== '6 years')|(df['emp_length']== '7 years')|\n",
        "           (df['emp_length']== '8 years')|(df['emp_length']== '9 years'),'emp_length'] = 'more than 4 years and less than 9 years'\n",
        "    df['emp_length'].fillna('unemployed', inplace=True)\n",
        "\n",
        "    # purpose 범주형 변수 차원 증가 방지를 위해 범주군으로 묶음\n",
        "    df.loc[(df['purpose']== 'car')|(df['purpose']== 'home_improvement')|\n",
        "           (df['purpose']== 'house')|(df['purpose']== 'major_purchase')|\n",
        "       (df['purpose']== 'medical')|(df['purpose']== 'moving')|\n",
        "       (df['purpose']== 'other')|(df['purpose']== 'renewable_energy')|\n",
        "       (df['purpose']== 'small_business')|(df['purpose']== 'vacation')|(df['purpose']== 'wedding'),'purpose'] = 'General loan debt'\n",
        "    # int_rate % 기호를 제거하고 수치형으로 변환\n",
        "    df['int_rate'] = df['int_rate'].replace('%','', regex=True).apply(pd.to_numeric)\n",
        "\n",
        "    # sub_grade 수치형으로 변환\n",
        "    sub_grade_ranks = {'A1': 1.1, 'A2': 1.2, 'A3': 1.3, 'A4': 1.4, 'A5': 1.5, \n",
        "                       'B1': 2.1, 'B2': 2.2, 'B3': 2.3, 'B4': 2.4, 'B5': 2.5, \n",
        "                       'C1': 3.1, 'C2': 3.2, 'C3': 3.3, 'C4': 3.4, 'C5': 3.5, \n",
        "                       'D1': 4.1, 'D2': 4.2, 'D3': 4.3, 'D4': 4.4, 'D5': 4.5}\n",
        "    df['sub_grade'] = df['sub_grade'].map(sub_grade_ranks)\n",
        "\n",
        "\n",
        "    # Reset index\n",
        "    df = df.reset_index(drop=True)\n",
        "\n",
        "    return df\n",
        "train = engineer(train)\n",
        "val = engineer(val)\n",
        "test = engineer(test)"
      ],
      "execution_count": 8,
      "outputs": []
    },
    {
      "cell_type": "code",
      "metadata": {
        "colab": {
          "base_uri": "https://localhost:8080/",
          "height": 113,
          "referenced_widgets": [
            "e3ec49f2b1724087ac55890ec17b0f4c",
            "ddf69c06e4c14148b570b4715b7615d9",
            "be58b53deffc40ada18cf802b2d37ef9",
            "20008760c01047cc8a36b660be0bbc3e",
            "f42c232b8dc941d48293276899bcc324",
            "3089d42201d8471fb1c47d8d776cbee5",
            "403c379eb75e4bfca4fa7405adf11f43",
            "f8f25ccab13e4b5d948d7f1ab60c339f",
            "79ba6f13f89c49f6903d1d2d9aa0183b",
            "66593bc578a94c8ea8adf22691d6aa73",
            "bc2043f38c1a459ebf8e8bc829f4acc6",
            "b40095468e51467a90c6d433811e7944",
            "e063484a45594bbf8522857c3b550e31",
            "bccb9e1b70d14094a1f2e6a15cebab8c",
            "d237c5fa925a4f4fac68c6fade9f8fbf",
            "6026eaa14dfb47dc86cce8e972cf0ade",
            "9a2ae4bc19694b399b99df05fa228b32",
            "fa05682500e5490eb1b9a75949c64de1",
            "83e1f2d9fab04a3aafee46e15006ff28",
            "77dcf28e31d34a7fb6bde8e62f0a39f2",
            "cf7af1f0542249878d56249f1c079ddd",
            "e72d2f6a6397445aa4c3b836da23f93a",
            "a29672659129401cbe8cb6c825e1d625",
            "c274911d4ea4408fbb64373560d06c02",
            "dd1a2d87641e4319b6f9429bc39e01b8",
            "038767aa35e64d26b622867ad9c7dc88",
            "e8f336a54ae342899d9f0472b575b39f",
            "553c81eb548443dbb50efb8f550a5f6d",
            "7d9d6fc9d1084e7593e2ad040f93eac9",
            "122e95050b914877978506ec8cce4b43",
            "afebf56285a5469baf1218e0e17196da",
            "8e2e9a826fac4dbd9e5e8eaa4f15e562",
            "24930991f8424f02934d294b2d50ecc4"
          ]
        },
        "collapsed": true,
        "id": "0rzHjQT97WCa",
        "outputId": "623cfb59-c320-4bf4-ecd9-49a38fc9b841"
      },
      "source": [
        "train_profile = train.profile_report()\n",
        "train_profile"
      ],
      "execution_count": 9,
      "outputs": [
        {
          "output_type": "display_data",
          "data": {
            "application/vnd.jupyter.widget-view+json": {
              "model_id": "e3ec49f2b1724087ac55890ec17b0f4c",
              "version_minor": 0,
              "version_major": 2
            },
            "text/plain": [
              "Summarize dataset:   0%|          | 0/5 [00:00<?, ?it/s]"
            ]
          },
          "metadata": {}
        },
        {
          "output_type": "display_data",
          "data": {
            "application/vnd.jupyter.widget-view+json": {
              "model_id": "b40095468e51467a90c6d433811e7944",
              "version_minor": 0,
              "version_major": 2
            },
            "text/plain": [
              "Generate report structure:   0%|          | 0/1 [00:00<?, ?it/s]"
            ]
          },
          "metadata": {}
        },
        {
          "output_type": "display_data",
          "data": {
            "application/vnd.jupyter.widget-view+json": {
              "model_id": "a29672659129401cbe8cb6c825e1d625",
              "version_minor": 0,
              "version_major": 2
            },
            "text/plain": [
              "Render HTML:   0%|          | 0/1 [00:00<?, ?it/s]"
            ]
          },
          "metadata": {}
        }
      ]
    },
    {
      "cell_type": "code",
      "metadata": {
        "id": "NOccOZSS3ruA"
      },
      "source": [
        "features = train.drop(columns=['Target']).columns\n",
        "\n",
        "X_train = train[features]\n",
        "y_train = train['Target']\n",
        "X_val = val[features]\n",
        "y_val = val['Target']\n",
        "X_test = test[features]\n",
        "y_test = test['Target']\n",
        "\n",
        "print('X_train shape', X_train.shape)\n",
        "print('y_train shape', y_train.shape)\n",
        "print('X_val shape', X_val.shape)\n",
        "print('y_val shape', y_val.shape)\n",
        "print('X_test shape', X_test.shape)\n",
        "print('y_test shape', y_test.shape)"
      ],
      "execution_count": null,
      "outputs": []
    },
    {
      "cell_type": "code",
      "metadata": {
        "id": "A8Yf5ttM9LOU"
      },
      "source": [
        "# test ids를 저장하고 SHAP분석시 사용\n",
        "test_id = X_test['id']"
      ],
      "execution_count": null,
      "outputs": []
    },
    {
      "cell_type": "markdown",
      "metadata": {
        "id": "YatUlquQ70PK"
      },
      "source": [
        "# 3. 모델링"
      ]
    },
    {
      "cell_type": "code",
      "metadata": {
        "id": "TNkKkobj7q9k"
      },
      "source": [
        "# 평가지표 함수\n",
        "def model_evaluation(label, predict):\n",
        "    cf_matrix = confusion_matrix(label, predict)\n",
        "    Accuracy = (cf_matrix[0][0] + cf_matrix[1][1]) / sum(sum(cf_matrix))\n",
        "    Precision = cf_matrix[1][1] / (cf_matrix[1][1] + cf_matrix[0][1])\n",
        "    Recall = cf_matrix[1][1] / (cf_matrix[1][1] + cf_matrix[1][0])\n",
        "    F1_Score = (2 * Recall * Precision) / (Recall + Precision)\n",
        "    print(\"Model_Evaluation with Label: 1\")\n",
        "    print(\"Accuracy: {:.1%}\".format(Accuracy))\n",
        "    print(\"Precision: {:.1%}\".format(Precision))\n",
        "    print(\"Recall: {:.1%}\".format(Recall))\n",
        "    print(\"F1-Score: {:.1%}\".format(F1_Score))"
      ],
      "execution_count": null,
      "outputs": []
    },
    {
      "cell_type": "markdown",
      "metadata": {
        "id": "bW0lDVCGnaHd"
      },
      "source": [
        "## 3.1 기준모델"
      ]
    },
    {
      "cell_type": "code",
      "metadata": {
        "id": "wPdb8JJ38D1B"
      },
      "source": [
        "# Baseline\n",
        "# 기준모델 검증세트\n",
        "major = y_train.mode()[0]\n",
        "y_val = val['Target']\n",
        "y_val_pred = [major] * len(y_val)\n",
        "print(\"기준모델 검증세트 평가\")\n",
        "model_evaluation(y_val, y_val_pred)"
      ],
      "execution_count": null,
      "outputs": []
    },
    {
      "cell_type": "code",
      "metadata": {
        "id": "MQ9plAiUgrg0"
      },
      "source": [
        "y_test = test['Target']\n",
        "y_test_pred = [major] * len(y_test)\n",
        "print(\"기준모델 테스트세트 평가\")\n",
        "model_evaluation(y_test, y_test_pred)"
      ],
      "execution_count": null,
      "outputs": []
    },
    {
      "cell_type": "code",
      "metadata": {
        "id": "xg1EEW6S8SU0"
      },
      "source": [
        "# 클래스 불균형\n",
        "sns.countplot(x=pd.Series(y_train))"
      ],
      "execution_count": null,
      "outputs": []
    },
    {
      "cell_type": "markdown",
      "metadata": {
        "id": "h-mfXI5QnFpv"
      },
      "source": [
        "## 3.2 클래스 불균형 조절"
      ]
    },
    {
      "cell_type": "code",
      "metadata": {
        "id": "hzAw0AktldA_"
      },
      "source": [
        "# weight를 이용한 클래스 조정\n",
        "vc = y_train.value_counts().to_list()\n",
        "ratio = float(vc[0]/vc[1])"
      ],
      "execution_count": null,
      "outputs": []
    },
    {
      "cell_type": "code",
      "metadata": {
        "id": "Ny2ZWJfJbfD3"
      },
      "source": [
        "# SMOTE를 이용한 Oversampling 후 모델링\n",
        "processor = make_pipeline(\n",
        "    OrdinalEncoder(), \n",
        "    SimpleImputer(strategy='mean')\n",
        ")\n",
        "X_train_processed = processor.fit_transform(X_train)\n",
        "X_val_processed = processor.transform(X_val)\n",
        "X_test_processed = processor.transform(X_test)\n",
        "\n",
        "print(\"OverSampling 전, '불량(1)' 라벨의 수: {}\".format(sum(y_train == 1)))\n",
        "print(\"OverSampling 전, '정상(0)' 라벨의 수: {}\\n\".format(sum(y_train == 0)))\n",
        "sm = SMOTE(random_state = 10, sampling_strategy=0.5)\n",
        "X_train_res, y_train_res = sm.fit_resample(X_train_processed, y_train.ravel())\n",
        "print(\"OverSampling 후, '불량(1)' 라벨의 수: {}\".format(sum(y_train_res == 1)))\n",
        "print(\"OverSampling 후, '정상(0)' 라벨의 수: {}\".format(sum(y_train_res == 0)))"
      ],
      "execution_count": null,
      "outputs": []
    },
    {
      "cell_type": "code",
      "metadata": {
        "id": "e5VSfbBNci-7"
      },
      "source": [
        "# X_val과 X_test도 Oversampling 진행\n",
        "X_val_res, y_val_res = sm.fit_resample(X_val_processed, y_val.ravel())\n",
        "X_test_res, y_test_res = sm.fit_resample(X_test_processed, y_test.ravel())"
      ],
      "execution_count": null,
      "outputs": []
    },
    {
      "cell_type": "markdown",
      "metadata": {
        "id": "UxsQ2yoKndm4"
      },
      "source": [
        "## 3.3 Logistic Regression\n"
      ]
    },
    {
      "cell_type": "code",
      "metadata": {
        "id": "lWG-mNh98V2O"
      },
      "source": [
        "# Logistic Regression\n",
        "lr_pipe = make_pipeline(\n",
        "    OrdinalEncoder(), \n",
        "    SimpleImputer(strategy='mean'),\n",
        "    StandardScaler(),\n",
        "    LogisticRegression(random_state=10, n_jobs=-1,\n",
        "                       class_weight='balanced',\n",
        "                       max_iter=1000, solver='saga', penalty = 'l1')\n",
        ")\n",
        "lr_pipe.fit(X_train, y_train);\n",
        "y_pred_lr_pipe = lr_pipe.predict(X_val)\n",
        "print(\"로지스틱 검증세트 평가\")\n",
        "model_evaluation(y_val, y_pred_lr_pipe)\n",
        "y_test_pred_lr_pipe = lr_pipe.predict(X_test)\n",
        "print(\"로지스틱 테스트세트 평가\")\n",
        "model_evaluation(y_test, y_test_pred_lr_pipe)"
      ],
      "execution_count": null,
      "outputs": []
    },
    {
      "cell_type": "code",
      "metadata": {
        "id": "Y3nydXzUaTK6"
      },
      "source": [
        "# Logistic Regression Oversampling\n",
        "lr_pipe = make_pipeline(\n",
        "    OrdinalEncoder(), \n",
        "    SimpleImputer(strategy='mean'),\n",
        "    StandardScaler(),\n",
        "    LogisticRegression(random_state=10, n_jobs=-1,\n",
        "                       class_weight='balanced',\n",
        "                       max_iter=1000)\n",
        ")\n",
        "lr_pipe.fit(X_train_res, y_train_res);\n",
        "y_res_pred_lr_pipe = lr_pipe.predict(X_val_res)\n",
        "print(\"로지스틱 검증세트 평가\")\n",
        "model_evaluation(y_val_res, y_res_pred_lr_pipe)"
      ],
      "execution_count": null,
      "outputs": []
    },
    {
      "cell_type": "code",
      "metadata": {
        "id": "FhVtjSLqeB9T"
      },
      "source": [
        "y_test_res_pred_lr_pipe = lr_pipe.predict(X_test_res)\n",
        "print(\"로지스틱 테스트세트 평가\")\n",
        "model_evaluation(y_test_res, y_test_res_pred_lr_pipe)"
      ],
      "execution_count": null,
      "outputs": []
    },
    {
      "cell_type": "markdown",
      "metadata": {
        "id": "1HftJjSgn4XQ"
      },
      "source": [
        "## 3.3 DecisionTree"
      ]
    },
    {
      "cell_type": "code",
      "metadata": {
        "id": "I2VznIsxoVb0"
      },
      "source": [
        "# DecisionTreeClassifier\n",
        "dt_pipe = make_pipeline(\n",
        "    OrdinalEncoder(),\n",
        "    SimpleImputer(strategy='mean'),\n",
        "    DecisionTreeClassifier(random_state=10, \n",
        "                           class_weight='balanced')\n",
        ")\n",
        "param_distributions = { \n",
        "    'decisiontreeclassifier__max_depth': [5, 7, 9, 12, 15], \n",
        "    'decisiontreeclassifier__min_samples_leaf': randint(2, 20),\n",
        "    'decisiontreeclassifier__min_samples_split': randint(2, 20) \n",
        "}\n",
        "\n",
        "search = RandomizedSearchCV(\n",
        "    dt_pipe, \n",
        "    param_distributions=param_distributions, \n",
        "    n_iter=5, \n",
        "    cv=3, \n",
        "    scoring='f1', \n",
        "    verbose=10, \n",
        "    return_train_score=True, \n",
        "    n_jobs=-1, \n",
        "    random_state=10\n",
        ")\n",
        "search.fit(X_train, y_train);\n",
        "dt_model = search.best_estimator_\n",
        "y_pred_dt = dt_model.predict(X_val)\n",
        "print(\"결정트리 검증세트 평가\")\n",
        "model_evaluation(y_val,y_pred_dt)\n",
        "\n",
        "y_pred_dt_test = dt_model.predict(X_test)\n",
        "print(\"결정트리 테스트세트 평가\")\n",
        "model_evaluation(y_test,y_pred_dt_test)"
      ],
      "execution_count": null,
      "outputs": []
    },
    {
      "cell_type": "code",
      "metadata": {
        "id": "7e-Dewg6y1zZ"
      },
      "source": [
        "# DecisionTreeClassifier Oversampling\n",
        "dt_pipe = make_pipeline(\n",
        "    OrdinalEncoder(),\n",
        "    SimpleImputer(strategy='mean'),\n",
        "    DecisionTreeClassifier(random_state=10, \n",
        "                           class_weight='balanced')\n",
        ")\n",
        "param_distributions = { \n",
        "    'decisiontreeclassifier__max_depth': [5, 7, 9, 12, 15], \n",
        "    'decisiontreeclassifier__min_samples_leaf': randint(2, 20),\n",
        "    'decisiontreeclassifier__min_samples_split': randint(2, 20) \n",
        "}\n",
        "\n",
        "search = RandomizedSearchCV(\n",
        "    dt_pipe, \n",
        "    param_distributions=param_distributions, \n",
        "    n_iter=5, \n",
        "    cv=3, \n",
        "    scoring='f1', \n",
        "    verbose=10, \n",
        "    return_train_score=True, \n",
        "    n_jobs=-1, \n",
        "    random_state=10\n",
        ")\n",
        "search.fit(X_train_res, y_train_res);\n",
        "dt_model2 = search.best_estimator_\n",
        "\n",
        "y_pred_dt_res = dt_model2.predict(X_val_res)\n",
        "print(\"결정트리 검증세트 평가\")\n",
        "model_evaluation(y_val_res,y_pred_dt_res)\n",
        "\n",
        "y_pred_dt_test_res = dt_model2.predict(X_test_res)\n",
        "print(\"결정트리 테스트세트 평가\")\n",
        "model_evaluation(y_test_res,y_pred_dt_test_res)"
      ],
      "execution_count": null,
      "outputs": []
    },
    {
      "cell_type": "markdown",
      "metadata": {
        "id": "Wz7EPu25nxjR"
      },
      "source": [
        "## 3.5 RandomForest"
      ]
    },
    {
      "cell_type": "code",
      "metadata": {
        "id": "BL1juOj0AzMk"
      },
      "source": [
        "# RandomForestClassifier\n",
        "rf_pipe = make_pipeline(\n",
        "    OrdinalEncoder(),\n",
        "    SimpleImputer(strategy='mean'),\n",
        "    RandomForestClassifier(random_state=42, n_jobs=-1,\n",
        "                           class_weight='balanced')\n",
        ")\n",
        "param_distributions = { \n",
        "    'randomforestclassifier__n_estimators': randint(50, 800), \n",
        "    'randomforestclassifier__max_depth': [5, 7, 9, 12, 15], \n",
        "    'randomforestclassifier__min_samples_leaf': randint(2, 20),\n",
        "    'randomforestclassifier__min_samples_split': randint(2, 20) \n",
        "}\n",
        "\n",
        "search = RandomizedSearchCV(\n",
        "    rf_pipe, \n",
        "    param_distributions=param_distributions, \n",
        "    n_iter=5, \n",
        "    cv=3, \n",
        "    scoring='f1', \n",
        "    verbose=10, \n",
        "    return_train_score=True, \n",
        "    n_jobs=-1, \n",
        "    random_state=10\n",
        ")\n",
        "search.fit(X_train, y_train);\n",
        "rf_model = search.best_estimator_\n",
        "\n",
        "y_pred_rf = rf_model.predict(X_val)\n",
        "print(\"랜덤포레스트 검증세트 평가\")\n",
        "model_evaluation(y_val,y_pred_rf)\n",
        "\n",
        "y_pred_rf_test = rf_model.predict(X_test)\n",
        "print(\"랜덤포레스트 테스트세트 평가\")\n",
        "model_evaluation(y_test,y_pred_rf_test)"
      ],
      "execution_count": null,
      "outputs": []
    },
    {
      "cell_type": "code",
      "metadata": {
        "id": "Vgj1Lkvr0IKy"
      },
      "source": [
        "# RandomForestClassifier Oversampling\n",
        "rf_pipe = make_pipeline(\n",
        "    OrdinalEncoder(),\n",
        "    SimpleImputer(strategy='mean'),\n",
        "    RandomForestClassifier(random_state=42, n_jobs=-1,\n",
        "                           class_weight='balanced')\n",
        ")\n",
        "param_distributions = { \n",
        "    'randomforestclassifier__n_estimators': randint(50, 800), \n",
        "    'randomforestclassifier__max_depth': [5, 7, 9, 12, 15], \n",
        "    'randomforestclassifier__min_samples_leaf': randint(2, 20),\n",
        "    'randomforestclassifier__min_samples_split': randint(2, 20) \n",
        "}\n",
        "\n",
        "search = RandomizedSearchCV(\n",
        "    rf_pipe, \n",
        "    param_distributions=param_distributions, \n",
        "    n_iter=5, \n",
        "    cv=3, \n",
        "    scoring='f1', \n",
        "    verbose=10, \n",
        "    return_train_score=True, \n",
        "    n_jobs=-1, \n",
        "    random_state=10\n",
        ")\n",
        "search.fit(X_train_res, y_train_res);\n",
        "rf_model2 = search.best_estimator_\n",
        "\n",
        "y_pred_rf_res = rf_model2.predict(X_val_res)\n",
        "print(\"랜덤포레스트 검증세트 평가\")\n",
        "model_evaluation(y_val_res,y_pred_rf_res)\n",
        "\n",
        "y_pred_rf_test_res = rf_model2.predict(X_test_res)\n",
        "print(\"랜덤포레스트 테스트세트 평가\")\n",
        "model_evaluation(y_test_res, y_pred_rf_test_res)"
      ],
      "execution_count": null,
      "outputs": []
    },
    {
      "cell_type": "markdown",
      "metadata": {
        "id": "CQDbQlVjnpHj"
      },
      "source": [
        "## 3.6 XGBoost"
      ]
    },
    {
      "cell_type": "code",
      "metadata": {
        "id": "-a3-VVuilcNm"
      },
      "source": [
        "## XGBClassifier\n",
        "xgb_pipe = make_pipeline(\n",
        "    OrdinalEncoder(),\n",
        "    SimpleImputer(strategy='mean'),\n",
        "    XGBClassifier(random_state=10, n_jobs=-1, silent=1,\n",
        "                   class_weight='balanced')\n",
        ")\n",
        "param_distributions = { \n",
        "    'xgbclassifier__n_estimators': randint(50, 1000), \n",
        "    'xgbclassifier__max_depth': [5, 6, 7, 8, 9, 10], \n",
        "    'xgbclassifier__ min_child_weight ': randint(1, 10)\n",
        "}\n",
        "\n",
        "search = RandomizedSearchCV(\n",
        "    xgb_pipe, \n",
        "    param_distributions=param_distributions, \n",
        "    n_iter=5, \n",
        "    cv=3, \n",
        "    scoring='f1', \n",
        "    verbose=10, \n",
        "    return_train_score=True, \n",
        "    n_jobs=-1, \n",
        "    random_state=10\n",
        ")\n",
        "search.fit(X_train, y_train);\n",
        "\n",
        "xgb_model = search.best_estimator_\n",
        "y_pred_xgb = xgb_model.predict(X_val)\n",
        "print(\"XGB 검증세트 평가\")\n",
        "model_evaluation(y_val,y_pred_xgb)\n",
        "\n",
        "y_pred_xgb_test = xgb_model.predict(X_test)\n",
        "print(\"XGB 테스트세트 평가\")\n",
        "model_evaluation(y_test,y_pred_xgb_test)"
      ],
      "execution_count": null,
      "outputs": []
    },
    {
      "cell_type": "code",
      "metadata": {
        "id": "mTAVeTm7mqv3"
      },
      "source": [
        "## XGBClassifier Oversamplig\n",
        "xgb_pipe = make_pipeline(\n",
        "    OrdinalEncoder(),\n",
        "    SimpleImputer(strategy='mean'),\n",
        "    XGBClassifier(random_state=10, n_jobs=-1, silent=1,\n",
        "                   class_weight='balanced')\n",
        ")\n",
        "param_distributions = { \n",
        "    'xgbclassifier__n_estimators': randint(50, 1000), \n",
        "    'xgbclassifier__max_depth': [5, 6, 7, 8, 9, 10], \n",
        "    'xgbclassifier__ min_child_weight ': randint(1, 10),\n",
        "    'xgbclassifier__booster' : [\"gbtree’\", \"dart\", \"gblinear\"]\n",
        "}\n",
        "\n",
        "search = RandomizedSearchCV(\n",
        "    xgb_pipe, \n",
        "    param_distributions=param_distributions, \n",
        "    n_iter=5, \n",
        "    cv=3, \n",
        "    scoring='f1', \n",
        "    verbose=10, \n",
        "    return_train_score=True, \n",
        "    n_jobs=-1, \n",
        "    random_state=10\n",
        ")\n",
        "search.fit(X_train_res, y_train_res);\n",
        "xgb_model2 = search.best_estimator_\n",
        "\n",
        "y_pred_xgb2_res = xgb_model2.predict(X_val_res)\n",
        "print(\"XGB 검증세트 평가\")\n",
        "model_evaluation(y_val_res,y_pred_xgb2_res)\n",
        "\n",
        "y_pred_xgb2_test_res = xgb_model2.predict(X_test_res)\n",
        "print(\"XGB 테스트세트 평가\")\n",
        "model_evaluation(y_test_res,y_pred_xgb2_test_res)"
      ],
      "execution_count": null,
      "outputs": []
    },
    {
      "cell_type": "markdown",
      "metadata": {
        "id": "4MzLa19spuy2"
      },
      "source": [
        "## 3.7 LightGBM\n"
      ]
    },
    {
      "cell_type": "code",
      "metadata": {
        "id": "4it9wUv_DTUG"
      },
      "source": [
        "## LGBMClassifier\n",
        "lgb_pipe = make_pipeline(\n",
        "    OrdinalEncoder(),\n",
        "    SimpleImputer(strategy='mean'),\n",
        "    LGBMClassifier(random_state=42, n_jobs=-1,\n",
        "                   class_weight='balanced')\n",
        ")\n",
        "param_distributions = { \n",
        "    'lgbmclassifier__n_estimators': randint(50, 1000), \n",
        "    'lgbmclassifier__max_depth': [5, 7, 10, 12, 15], \n",
        "    'lgbmclassifier__num_leaves': randint(31, 100),\n",
        "    'lgbmclassifier__boosting_type' : [\"gbdt’\", \"dart\", \"rf\"]\n",
        "}\n",
        "\n",
        "search = RandomizedSearchCV(\n",
        "    lgb_pipe, \n",
        "    param_distributions=param_distributions, \n",
        "    n_iter=5, \n",
        "    cv=3, \n",
        "    scoring='f1', \n",
        "    verbose=10, \n",
        "    return_train_score=True, \n",
        "    n_jobs=-1, \n",
        "    random_state=10\n",
        ")\n",
        "search.fit(X_train, y_train);\n",
        "lgb_model = search.best_estimator_\n",
        "y_pred_lgb = lgb_model.predict(X_val)\n",
        "\n",
        "print(\"LGBM 검증세트 평가\")\n",
        "model_evaluation(y_val,y_pred_lgb)\n",
        "\n",
        "y_pred_lgb_test = lgb_model.predict(X_test)\n",
        "print(\"LGBM 테스트세트 평가\")\n",
        "model_evaluation(y_test,y_pred_lgb_test)"
      ],
      "execution_count": null,
      "outputs": []
    },
    {
      "cell_type": "code",
      "metadata": {
        "id": "azTdERvg1UgL"
      },
      "source": [
        "## LGBMClassifier Oversamplig\n",
        "lgb_pipe = make_pipeline(\n",
        "    OrdinalEncoder(),\n",
        "    SimpleImputer(strategy='mean'),\n",
        "    LGBMClassifier(random_state=42, n_jobs=-1,\n",
        "                   class_weight='balanced')\n",
        ")\n",
        "param_distributions = { \n",
        "    'lgbmclassifier__n_estimators': randint(50, 1000), \n",
        "    'lgbmclassifier__max_depth': [5, 7, 10, 12, 15], \n",
        "    'lgbmclassifier__num_leaves': randint(31, 100),\n",
        "    'lgbmclassifier__boosting_type' : [\"gbdt’\", \"dart\", \"rf\"]\n",
        "}\n",
        "\n",
        "search = RandomizedSearchCV(\n",
        "    lgb_pipe, \n",
        "    param_distributions=param_distributions, \n",
        "    n_iter=5, \n",
        "    cv=3, \n",
        "    scoring='f1', \n",
        "    verbose=10, \n",
        "    return_train_score=True, \n",
        "    n_jobs=-1, \n",
        "    random_state=10\n",
        ")\n",
        "search.fit(X_train_res, y_train_res);\n",
        "\n",
        "lgb_model2 = search.best_estimator_\n",
        "y_pred_lgb_res = lgb_model2.predict(X_val_res)\n",
        "print(\"LGBM 검증세트 평가\")\n",
        "model_evaluation(y_val_res,y_pred_lgb_res)\n",
        "\n",
        "y_pred_lgb_test_res = lgb_model2.predict(X_test_res)\n",
        "print(\"LGBM 테스트세트 평가\")\n",
        "model_evaluation(y_test_res,y_pred_lgb_test_res)"
      ],
      "execution_count": null,
      "outputs": []
    },
    {
      "cell_type": "markdown",
      "metadata": {
        "id": "CTN1eykrwVRn"
      },
      "source": [
        "## 3.8 CatBoost"
      ]
    },
    {
      "cell_type": "code",
      "metadata": {
        "id": "-gdM3XSzqRWG"
      },
      "source": [
        "## CatBoostClassifier\n",
        "cb_pipe = make_pipeline(\n",
        "    OrdinalEncoder(),\n",
        "    SimpleImputer(strategy='mean'),\n",
        "    CatBoostClassifier(random_state=10)\n",
        ")\n",
        "param_distributions = { \n",
        "    'catboostclassifier__n_estimators': randint(50, 1000), \n",
        "    'catboostclassifier__max_depth': [5, 7, 10, 12, 15], \n",
        "    'catboostclassifier__num_leaves': randint(31, 100)\n",
        "}\n",
        "\n",
        "search = RandomizedSearchCV(\n",
        "    cb_pipe, \n",
        "    param_distributions=param_distributions, \n",
        "    n_iter=5, \n",
        "    cv=3, \n",
        "    scoring='f1', \n",
        "    verbose=10, \n",
        "    return_train_score=True, \n",
        "    n_jobs=-1, \n",
        "    random_state=10\n",
        ")\n",
        "search.fit(X_train, y_train);\n",
        "\n",
        "cb_model = search.best_estimator_\n",
        "y_pred_cb = cb_model.predict(X_val)\n",
        "print(\"CatBoost 검증세트 평가\")\n",
        "model_evaluation(y_val,y_pred_cb)\n",
        "y_pred_cb_test = cb_model.predict(X_test)\n",
        "print(\"CatBoost 테스트세트 평가\")\n",
        "model_evaluation(y_test,y_pred_cb_test)"
      ],
      "execution_count": null,
      "outputs": []
    },
    {
      "cell_type": "code",
      "metadata": {
        "id": "hYCvUa_H04Zt"
      },
      "source": [
        "## CatBoostClassifier Oversamplig\n",
        "cb_pipe = make_pipeline(\n",
        "    OrdinalEncoder(),\n",
        "    SimpleImputer(strategy='mean'),\n",
        "    CatBoostClassifier(random_state=10)\n",
        ")\n",
        "param_distributions = { \n",
        "    'catboostclassifier__n_estimators': randint(50, 1000), \n",
        "    'catboostclassifier__max_depth': [5, 7, 10, 12, 15], \n",
        "    'catboostclassifier__num_leaves': randint(31, 100)\n",
        "}\n",
        "\n",
        "search = RandomizedSearchCV(\n",
        "    cb_pipe, \n",
        "    param_distributions=param_distributions, \n",
        "    n_iter=5, \n",
        "    cv=3, \n",
        "    scoring='f1', \n",
        "    verbose=10, \n",
        "    return_train_score=True, \n",
        "    n_jobs=-1, \n",
        "    random_state=10\n",
        ")\n",
        "search.fit(X_train_res, y_train_res);\n",
        "\n",
        "cb_model2 = search.best_estimator_\n",
        "y_pred_cb_res = cb_model2.predict(X_val_res)\n",
        "print(\"CatBoost 검증세트 평가\")\n",
        "model_evaluation(y_val_res,y_pred_cb_res)\n",
        "\n",
        "y_pred_cb_test_res = cb_model2.predict(X_test_res)\n",
        "print(\"CatBoost 테스트세트 평가\")\n",
        "model_evaluation(y_test_res,y_pred_cb_test_res)"
      ],
      "execution_count": null,
      "outputs": []
    },
    {
      "cell_type": "markdown",
      "metadata": {
        "id": "yTlt2DT7FLbR"
      },
      "source": [
        "## 3.8 모델링 결과 정리"
      ]
    },
    {
      "cell_type": "markdown",
      "metadata": {
        "id": "uZ_TeBayFyB1"
      },
      "source": [
        "![모델 평가.PNG](data:image/png;base64,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)"
      ]
    },
    {
      "cell_type": "markdown",
      "metadata": {
        "id": "fxwpaqz9wZwL"
      },
      "source": [
        "# 4. 결과해석"
      ]
    },
    {
      "cell_type": "markdown",
      "metadata": {
        "id": "mhnf6U6OIelJ"
      },
      "source": [
        "## 대출을 상환하지 못한 고객의 특징은 무엇일까?"
      ]
    },
    {
      "cell_type": "code",
      "metadata": {
        "id": "Ln0gxspT4Jav"
      },
      "source": [
        "class_index = 1\n",
        "y_pred_proba= xgb_model.predict_proba(X_test)[:, class_index]"
      ],
      "execution_count": null,
      "outputs": []
    },
    {
      "cell_type": "code",
      "metadata": {
        "id": "PDhUnrXW5z6N"
      },
      "source": [
        "df_p = pd.DataFrame({\n",
        "    'id': test_id, \n",
        "    'pred_proba': y_pred_proba, # 예측확률 \n",
        "    'Target': y_test # 실제값\n",
        "})\n",
        "\n",
        "df_p = df_p.merge(\n",
        "     df[['id', 'issue_d', 'annual_inc', 'inq_last_6mths', 'sub_grade', 'int_rate',\n",
        "       'installment', 'tot_cur_bal', 'avg_cur_bal', 'mo_sin_old_rev_tl_op',\n",
        "       'mo_sin_rcnt_rev_tl_op', 'mo_sin_rcnt_tl', 'mort_acc', 'num_il_tl',\n",
        "       'emp_length', 'num_tl_op_past_12m', 'revol_bal', 'total_bc_limit',\n",
        "       'dti', 'out_prncp', 'out_prncp_inv', 'total_pymnt', 'total_pymnt_inv',\n",
        "       'total_rec_prncp', 'total_rec_int', 'total_rec_late_fee',\n",
        "       'tot_hi_cred_lim', 'home_ownership', 'purpose', 'last_fico_range_high',\n",
        "       'last_fico_range_low']],\n",
        "     how='left'\n",
        ")"
      ],
      "execution_count": null,
      "outputs": []
    },
    {
      "cell_type": "code",
      "metadata": {
        "id": "GCxtm-4W_XNz"
      },
      "source": [
        "df_p.head()"
      ],
      "execution_count": null,
      "outputs": []
    },
    {
      "cell_type": "code",
      "metadata": {
        "id": "Ahen2HA8ACZ6"
      },
      "source": [
        "fully_paid = df_p['Target'] == 0\n",
        "charged_off = ~fully_paid\n",
        "right = (fully_paid) == (df_p['pred_proba'] > 0.50)\n",
        "wrong = ~right"
      ],
      "execution_count": null,
      "outputs": []
    },
    {
      "cell_type": "code",
      "metadata": {
        "id": "qWxJZSsmANk3"
      },
      "source": [
        "# 대출을 상환하지 못한 샘플들\n",
        "df_p[charged_off & right].sample(n=10, random_state=1).sort_values(by='pred_proba')"
      ],
      "execution_count": null,
      "outputs": []
    },
    {
      "cell_type": "code",
      "metadata": {
        "id": "qKaHKOdcBax4"
      },
      "source": [
        "row = X_test.iloc[[6780]]\n",
        "row"
      ],
      "execution_count": null,
      "outputs": []
    },
    {
      "cell_type": "markdown",
      "metadata": {
        "id": "Fj8YIJDjHrLZ"
      },
      "source": [
        "### SHAP"
      ]
    },
    {
      "cell_type": "code",
      "metadata": {
        "id": "bwl4hIJ1vITV"
      },
      "source": [
        "explainer = shap.TreeExplainer(rf_model.named_steps['randomforestclassifier'])\n",
        "row_processed = processor.transform(row)\n",
        "shap_values = explainer.shap_values(row_processed)\n",
        "\n",
        "shap.initjs()\n",
        "shap.force_plot(\n",
        "    base_value=explainer.expected_value[1], \n",
        "    shap_values=shap_values[1], \n",
        "    features=row, \n",
        "    link='logit' \n",
        ")"
      ],
      "execution_count": null,
      "outputs": []
    },
    {
      "cell_type": "code",
      "metadata": {
        "id": "BcdmI6G8EoTq"
      },
      "source": [
        "row_processed = processor.transform(X_test.iloc[:100])\n",
        "\n",
        "shap.initjs()\n",
        "shap_values = explainer.shap_values(row_processed)\n",
        "shap.summary_plot(shap_values[1], row_processed, plot_type=\"bar\")"
      ],
      "execution_count": null,
      "outputs": []
    },
    {
      "cell_type": "markdown",
      "metadata": {
        "id": "pg0BYAoCNYFd"
      },
      "source": [
        "- Feature 23 : tot_rec_int, "
      ]
    },
    {
      "cell_type": "code",
      "metadata": {
        "id": "l-429dt6Jpfl"
      },
      "source": [
        ""
      ],
      "execution_count": null,
      "outputs": []
    }
  ]
}