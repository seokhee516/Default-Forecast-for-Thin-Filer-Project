{
  "nbformat": 4,
  "nbformat_minor": 0,
  "metadata": {
    "colab": {
      "name": "문제정의 및 EDAipynb",
      "provenance": [],
      "machine_shape": "hm",
      "authorship_tag": "ABX9TyM4x78EDQD+iahWxdbmRn/q",
      "include_colab_link": true
    },
    "kernelspec": {
      "name": "python3",
      "display_name": "Python 3"
    },
    "language_info": {
      "name": "python"
    }
  },
  "cells": [
    {
      "cell_type": "markdown",
      "metadata": {
        "id": "view-in-github",
        "colab_type": "text"
      },
      "source": [
        "<a href=\"https://colab.research.google.com/github/seokhee516/Project2-Credit-Scoring-System/blob/main/%EA%B2%B0%EA%B3%BC%EC%A0%95%EB%A6%AC.ipynb\" target=\"_parent\"><img src=\"https://colab.research.google.com/assets/colab-badge.svg\" alt=\"Open In Colab\"/></a>"
      ]
    },
    {
      "cell_type": "markdown",
      "metadata": {
        "id": "ZMLipgzrTGwV"
      },
      "source": [
        "# 1. 문제정의"
      ]
    },
    {
      "cell_type": "markdown",
      "metadata": {
        "id": "dOm15tngTNIc"
      },
      "source": [
        "이번 프로젝트 주제는 **\"씬파일러를 위한 신용평가 예측모형\"** 입니다.  \n",
        " 씬파일러(Thin filer)란, 금융 거래가 적거나 없어 관련 서류가 얇은 금융고객을 의미합니다. 주로 사회초년생, 주부, 은퇴자들이 이에 속해 있으며, 이들은 중저신용등급으로 책정되어 제도권 금융을 이용할 기회가 줄어들게 됩니다.\n",
        " 이처럼 금융이력이 부족한 이들의 채무불이행을 예측하고, 더 나아가 신파일러들의 금융 불이익을 해소 할 수 있는 신용평가를 제공하는 것이 이번 프로젝트의 목적입니다.\n",
        "\n",
        "\n"
      ]
    },
    {
      "cell_type": "markdown",
      "metadata": {
        "id": "KzKSLb2Mb7z4"
      },
      "source": [
        "프로젝트에 사용할 데이터는 **\"Lending Club(렌딩 클럽)\"** 데이터입니다.  \n",
        "렌딩 클럽은 미국 유명 P2P 대출 업체로서, 신용등급이 낮아 제도권 금융기관에서 대출을 받을 수 없는 씬파일러에게 대안금융 역할을 하고 있습니다. 캐글에서 제공하고 있는 'Lending Club 2007-2020Q3' 데이터세트의 2018년부터 2020년 3분기 데이터를 활용하여 본 프로젝트를 진행하겠습니다.  \n",
        "\n"
      ]
    },
    {
      "cell_type": "markdown",
      "metadata": {
        "id": "ViN2DmPpuF_e"
      },
      "source": [
        "렌딩 클럽 데이터는 대출상태(loan_status)를 상환, 유지, 연체, 회수불능 등 8개로 분류하였습니다. 이를 **정상(상환, 유지)과 불량(연체, 회수불능)으로 이진 분류 문제**를 풀어내겠습니다."
      ]
    },
    {
      "cell_type": "markdown",
      "metadata": {
        "id": "8Wt7jZhLetob"
      },
      "source": [
        "# 2. EDA 및 데이터 전처리"
      ]
    },
    {
      "cell_type": "markdown",
      "metadata": {
        "id": "9enkD1ym3KgU"
      },
      "source": [
        "## 2.1 데이터 및 모듈 불러오기"
      ]
    },
    {
      "cell_type": "code",
      "metadata": {
        "id": "ZMxnGSnln6nG",
        "outputId": "aaaec0e1-9a63-4733-cbd9-399c0c0faa36",
        "colab": {
          "base_uri": "https://localhost:8080/"
        }
      },
      "source": [
        "! pip install --upgrade imbalanced-learn"
      ],
      "execution_count": 134,
      "outputs": [
        {
          "output_type": "stream",
          "name": "stdout",
          "text": [
            "Requirement already satisfied: imbalanced-learn in /usr/local/lib/python3.7/dist-packages (0.8.1)\n",
            "Requirement already satisfied: scikit-learn>=0.24 in /usr/local/lib/python3.7/dist-packages (from imbalanced-learn) (1.0.1)\n",
            "Requirement already satisfied: numpy>=1.13.3 in /usr/local/lib/python3.7/dist-packages (from imbalanced-learn) (1.19.5)\n",
            "Requirement already satisfied: joblib>=0.11 in /usr/local/lib/python3.7/dist-packages (from imbalanced-learn) (1.1.0)\n",
            "Requirement already satisfied: scipy>=0.19.1 in /usr/local/lib/python3.7/dist-packages (from imbalanced-learn) (1.4.1)\n",
            "Requirement already satisfied: threadpoolctl>=2.0.0 in /usr/local/lib/python3.7/dist-packages (from scikit-learn>=0.24->imbalanced-learn) (3.0.0)\n"
          ]
        }
      ]
    },
    {
      "cell_type": "code",
      "metadata": {
        "id": "5DTdNjR3jg3r",
        "outputId": "f3444a72-64e2-4d8c-934c-cdc3a502f344",
        "colab": {
          "base_uri": "https://localhost:8080/",
          "height": 306
        }
      },
      "source": [
        "!pip uninstall scikit-learn -y\n",
        "!pip install -U scikit-learn"
      ],
      "execution_count": 135,
      "outputs": [
        {
          "output_type": "stream",
          "name": "stdout",
          "text": [
            "Found existing installation: scikit-learn 1.0.1\n",
            "Uninstalling scikit-learn-1.0.1:\n",
            "  Successfully uninstalled scikit-learn-1.0.1\n",
            "Collecting scikit-learn\n",
            "  Using cached scikit_learn-1.0.1-cp37-cp37m-manylinux_2_12_x86_64.manylinux2010_x86_64.whl (23.2 MB)\n",
            "Requirement already satisfied: scipy>=1.1.0 in /usr/local/lib/python3.7/dist-packages (from scikit-learn) (1.4.1)\n",
            "Requirement already satisfied: joblib>=0.11 in /usr/local/lib/python3.7/dist-packages (from scikit-learn) (1.1.0)\n",
            "Requirement already satisfied: numpy>=1.14.6 in /usr/local/lib/python3.7/dist-packages (from scikit-learn) (1.19.5)\n",
            "Requirement already satisfied: threadpoolctl>=2.0.0 in /usr/local/lib/python3.7/dist-packages (from scikit-learn) (3.0.0)\n",
            "Installing collected packages: scikit-learn\n",
            "Successfully installed scikit-learn-1.0.1\n"
          ]
        },
        {
          "output_type": "display_data",
          "data": {
            "application/vnd.colab-display-data+json": {
              "pip_warning": {
                "packages": [
                  "sklearn"
                ]
              }
            }
          },
          "metadata": {}
        }
      ]
    },
    {
      "cell_type": "code",
      "metadata": {
        "id": "VaWYx3H5IWGR",
        "outputId": "f2261cab-21b6-43ae-810d-37cedbf06204",
        "colab": {
          "base_uri": "https://localhost:8080/"
        }
      },
      "source": [
        "!pip install category_encoders"
      ],
      "execution_count": 136,
      "outputs": [
        {
          "output_type": "stream",
          "name": "stdout",
          "text": [
            "Requirement already satisfied: category_encoders in /usr/local/lib/python3.7/dist-packages (2.3.0)\n",
            "Requirement already satisfied: scipy>=1.0.0 in /usr/local/lib/python3.7/dist-packages (from category_encoders) (1.4.1)\n",
            "Requirement already satisfied: pandas>=0.21.1 in /usr/local/lib/python3.7/dist-packages (from category_encoders) (1.1.5)\n",
            "Requirement already satisfied: patsy>=0.5.1 in /usr/local/lib/python3.7/dist-packages (from category_encoders) (0.5.2)\n",
            "Requirement already satisfied: numpy>=1.14.0 in /usr/local/lib/python3.7/dist-packages (from category_encoders) (1.19.5)\n",
            "Requirement already satisfied: statsmodels>=0.9.0 in /usr/local/lib/python3.7/dist-packages (from category_encoders) (0.10.2)\n",
            "Requirement already satisfied: scikit-learn>=0.20.0 in /usr/local/lib/python3.7/dist-packages (from category_encoders) (1.0.1)\n",
            "Requirement already satisfied: python-dateutil>=2.7.3 in /usr/local/lib/python3.7/dist-packages (from pandas>=0.21.1->category_encoders) (2.8.2)\n",
            "Requirement already satisfied: pytz>=2017.2 in /usr/local/lib/python3.7/dist-packages (from pandas>=0.21.1->category_encoders) (2018.9)\n",
            "Requirement already satisfied: six in /usr/local/lib/python3.7/dist-packages (from patsy>=0.5.1->category_encoders) (1.15.0)\n",
            "Requirement already satisfied: threadpoolctl>=2.0.0 in /usr/local/lib/python3.7/dist-packages (from scikit-learn>=0.20.0->category_encoders) (3.0.0)\n",
            "Requirement already satisfied: joblib>=0.11 in /usr/local/lib/python3.7/dist-packages (from scikit-learn>=0.20.0->category_encoders) (1.1.0)\n"
          ]
        }
      ]
    },
    {
      "cell_type": "code",
      "metadata": {
        "id": "op5MQuRAqp33",
        "outputId": "fb8a64e9-8465-4fc7-933b-8aa21909a5c3",
        "colab": {
          "base_uri": "https://localhost:8080/"
        }
      },
      "source": [
        "!pip install catboost"
      ],
      "execution_count": 137,
      "outputs": [
        {
          "output_type": "stream",
          "name": "stdout",
          "text": [
            "Requirement already satisfied: catboost in /usr/local/lib/python3.7/dist-packages (1.0.3)\n",
            "Requirement already satisfied: six in /usr/local/lib/python3.7/dist-packages (from catboost) (1.15.0)\n",
            "Requirement already satisfied: plotly in /usr/local/lib/python3.7/dist-packages (from catboost) (4.4.1)\n",
            "Requirement already satisfied: matplotlib in /usr/local/lib/python3.7/dist-packages (from catboost) (3.1.1)\n",
            "Requirement already satisfied: scipy in /usr/local/lib/python3.7/dist-packages (from catboost) (1.4.1)\n",
            "Requirement already satisfied: pandas>=0.24.0 in /usr/local/lib/python3.7/dist-packages (from catboost) (1.1.5)\n",
            "Requirement already satisfied: numpy>=1.16.0 in /usr/local/lib/python3.7/dist-packages (from catboost) (1.19.5)\n",
            "Requirement already satisfied: graphviz in /usr/local/lib/python3.7/dist-packages (from catboost) (0.10.1)\n",
            "Requirement already satisfied: python-dateutil>=2.7.3 in /usr/local/lib/python3.7/dist-packages (from pandas>=0.24.0->catboost) (2.8.2)\n",
            "Requirement already satisfied: pytz>=2017.2 in /usr/local/lib/python3.7/dist-packages (from pandas>=0.24.0->catboost) (2018.9)\n",
            "Requirement already satisfied: kiwisolver>=1.0.1 in /usr/local/lib/python3.7/dist-packages (from matplotlib->catboost) (1.3.2)\n",
            "Requirement already satisfied: pyparsing!=2.0.4,!=2.1.2,!=2.1.6,>=2.0.1 in /usr/local/lib/python3.7/dist-packages (from matplotlib->catboost) (2.4.7)\n",
            "Requirement already satisfied: cycler>=0.10 in /usr/local/lib/python3.7/dist-packages (from matplotlib->catboost) (0.11.0)\n",
            "Requirement already satisfied: retrying>=1.3.3 in /usr/local/lib/python3.7/dist-packages (from plotly->catboost) (1.3.3)\n"
          ]
        }
      ]
    },
    {
      "cell_type": "code",
      "metadata": {
        "id": "nS4mROP7XsOz",
        "outputId": "0b7d9875-f0a2-4dac-c157-6e95e3dae55b",
        "colab": {
          "base_uri": "https://localhost:8080/"
        }
      },
      "source": [
        "!pip install lightgbm"
      ],
      "execution_count": 138,
      "outputs": [
        {
          "output_type": "stream",
          "name": "stdout",
          "text": [
            "Requirement already satisfied: lightgbm in /usr/local/lib/python3.7/dist-packages (2.2.3)\n",
            "Requirement already satisfied: scipy in /usr/local/lib/python3.7/dist-packages (from lightgbm) (1.4.1)\n",
            "Requirement already satisfied: numpy in /usr/local/lib/python3.7/dist-packages (from lightgbm) (1.19.5)\n",
            "Requirement already satisfied: scikit-learn in /usr/local/lib/python3.7/dist-packages (from lightgbm) (1.0.1)\n",
            "Requirement already satisfied: threadpoolctl>=2.0.0 in /usr/local/lib/python3.7/dist-packages (from scikit-learn->lightgbm) (3.0.0)\n",
            "Requirement already satisfied: joblib>=0.11 in /usr/local/lib/python3.7/dist-packages (from scikit-learn->lightgbm) (1.1.0)\n"
          ]
        }
      ]
    },
    {
      "cell_type": "code",
      "metadata": {
        "id": "1mB4Z9MwpQLw",
        "outputId": "fa7810cd-6354-4194-ccec-d8a3d0dc0a7c",
        "colab": {
          "base_uri": "https://localhost:8080/"
        }
      },
      "source": [
        "! pip install pdpbox"
      ],
      "execution_count": 139,
      "outputs": [
        {
          "output_type": "stream",
          "name": "stdout",
          "text": [
            "Requirement already satisfied: pdpbox in /usr/local/lib/python3.7/dist-packages (0.2.1)\n",
            "Requirement already satisfied: matplotlib==3.1.1 in /usr/local/lib/python3.7/dist-packages (from pdpbox) (3.1.1)\n",
            "Requirement already satisfied: joblib in /usr/local/lib/python3.7/dist-packages (from pdpbox) (1.1.0)\n",
            "Requirement already satisfied: psutil in /usr/local/lib/python3.7/dist-packages (from pdpbox) (5.4.8)\n",
            "Requirement already satisfied: pandas in /usr/local/lib/python3.7/dist-packages (from pdpbox) (1.1.5)\n",
            "Requirement already satisfied: numpy in /usr/local/lib/python3.7/dist-packages (from pdpbox) (1.19.5)\n",
            "Requirement already satisfied: sklearn in /usr/local/lib/python3.7/dist-packages (from pdpbox) (0.0)\n",
            "Requirement already satisfied: scipy in /usr/local/lib/python3.7/dist-packages (from pdpbox) (1.4.1)\n",
            "Requirement already satisfied: cycler>=0.10 in /usr/local/lib/python3.7/dist-packages (from matplotlib==3.1.1->pdpbox) (0.11.0)\n",
            "Requirement already satisfied: pyparsing!=2.0.4,!=2.1.2,!=2.1.6,>=2.0.1 in /usr/local/lib/python3.7/dist-packages (from matplotlib==3.1.1->pdpbox) (2.4.7)\n",
            "Requirement already satisfied: python-dateutil>=2.1 in /usr/local/lib/python3.7/dist-packages (from matplotlib==3.1.1->pdpbox) (2.8.2)\n",
            "Requirement already satisfied: kiwisolver>=1.0.1 in /usr/local/lib/python3.7/dist-packages (from matplotlib==3.1.1->pdpbox) (1.3.2)\n",
            "Requirement already satisfied: six>=1.5 in /usr/local/lib/python3.7/dist-packages (from python-dateutil>=2.1->matplotlib==3.1.1->pdpbox) (1.15.0)\n",
            "Requirement already satisfied: pytz>=2017.2 in /usr/local/lib/python3.7/dist-packages (from pandas->pdpbox) (2018.9)\n",
            "Requirement already satisfied: scikit-learn in /usr/local/lib/python3.7/dist-packages (from sklearn->pdpbox) (1.0.1)\n",
            "Requirement already satisfied: threadpoolctl>=2.0.0 in /usr/local/lib/python3.7/dist-packages (from scikit-learn->sklearn->pdpbox) (3.0.0)\n"
          ]
        }
      ]
    },
    {
      "cell_type": "code",
      "metadata": {
        "id": "WnWxM25EpOJ5",
        "outputId": "92c1f00b-081d-459b-9a50-bf1457e81cc2",
        "colab": {
          "base_uri": "https://localhost:8080/"
        }
      },
      "source": [
        "! pip install shap"
      ],
      "execution_count": 140,
      "outputs": [
        {
          "output_type": "stream",
          "name": "stdout",
          "text": [
            "Requirement already satisfied: shap in /usr/local/lib/python3.7/dist-packages (0.40.0)\n",
            "Requirement already satisfied: tqdm>4.25.0 in /usr/local/lib/python3.7/dist-packages (from shap) (4.62.3)\n",
            "Requirement already satisfied: slicer==0.0.7 in /usr/local/lib/python3.7/dist-packages (from shap) (0.0.7)\n",
            "Requirement already satisfied: cloudpickle in /usr/local/lib/python3.7/dist-packages (from shap) (1.3.0)\n",
            "Requirement already satisfied: numba in /usr/local/lib/python3.7/dist-packages (from shap) (0.51.2)\n",
            "Requirement already satisfied: scikit-learn in /usr/local/lib/python3.7/dist-packages (from shap) (1.0.1)\n",
            "Requirement already satisfied: scipy in /usr/local/lib/python3.7/dist-packages (from shap) (1.4.1)\n",
            "Requirement already satisfied: packaging>20.9 in /usr/local/lib/python3.7/dist-packages (from shap) (21.2)\n",
            "Requirement already satisfied: numpy in /usr/local/lib/python3.7/dist-packages (from shap) (1.19.5)\n",
            "Requirement already satisfied: pandas in /usr/local/lib/python3.7/dist-packages (from shap) (1.1.5)\n",
            "Requirement already satisfied: pyparsing<3,>=2.0.2 in /usr/local/lib/python3.7/dist-packages (from packaging>20.9->shap) (2.4.7)\n",
            "Requirement already satisfied: llvmlite<0.35,>=0.34.0.dev0 in /usr/local/lib/python3.7/dist-packages (from numba->shap) (0.34.0)\n",
            "Requirement already satisfied: setuptools in /usr/local/lib/python3.7/dist-packages (from numba->shap) (57.4.0)\n",
            "Requirement already satisfied: python-dateutil>=2.7.3 in /usr/local/lib/python3.7/dist-packages (from pandas->shap) (2.8.2)\n",
            "Requirement already satisfied: pytz>=2017.2 in /usr/local/lib/python3.7/dist-packages (from pandas->shap) (2018.9)\n",
            "Requirement already satisfied: six>=1.5 in /usr/local/lib/python3.7/dist-packages (from python-dateutil>=2.7.3->pandas->shap) (1.15.0)\n",
            "Requirement already satisfied: joblib>=0.11 in /usr/local/lib/python3.7/dist-packages (from scikit-learn->shap) (1.1.0)\n",
            "Requirement already satisfied: threadpoolctl>=2.0.0 in /usr/local/lib/python3.7/dist-packages (from scikit-learn->shap) (3.0.0)\n"
          ]
        }
      ]
    },
    {
      "cell_type": "code",
      "metadata": {
        "id": "bnHJpFCgTDfA"
      },
      "source": [
        "import pandas as pd\n",
        "import numpy as np\n",
        "import missingno as msno\n",
        "\n",
        "from sklearn.model_selection import train_test_split\n",
        "from sklearn.preprocessing import StandardScaler\n",
        "from category_encoders import OrdinalEncoder\n",
        "from sklearn.impute import SimpleImputer\n",
        "from sklearn.pipeline import make_pipeline\n",
        "from imblearn.over_sampling import SMOTE\n",
        "\n",
        "from sklearn.linear_model import LogisticRegression\n",
        "from sklearn.tree import DecisionTreeClassifier\n",
        "from sklearn.ensemble import RandomForestClassifier\n",
        "from xgboost import XGBClassifier\n",
        "from lightgbm import LGBMClassifier\n",
        "from catboost import CatBoostClassifier\n",
        "\n",
        "from sklearn.metrics import confusion_matrix\n",
        "from sklearn.metrics import accuracy_score\n",
        "from sklearn.metrics import f1_score\n",
        "\n",
        "from sklearn.model_selection import RandomizedSearchCV\n",
        "\n",
        "from pdpbox.pdp import pdp_isolate, pdp_plot\n",
        "from pdpbox.pdp import pdp_interact, pdp_interact_plot\n",
        "import shap\n",
        "\n",
        "\n",
        "import matplotlib.pyplot as plt\n",
        "import seaborn as sns\n",
        "%matplotlib inline\n",
        "import warnings\n",
        "warnings.filterwarnings(action='ignore')"
      ],
      "execution_count": 141,
      "outputs": []
    },
    {
      "cell_type": "code",
      "metadata": {
        "colab": {
          "base_uri": "https://localhost:8080/",
          "height": 430
        },
        "id": "mTOTCd-G343U",
        "outputId": "72a81788-7ffe-4261-85f0-2ba4d7b2d096"
      },
      "source": [
        "df = pd.read_csv('LendingClub_Loan_status_2018-2020Q3.csv').iloc[:,1:]\n",
        "print(df.shape)\n",
        "df.head()"
      ],
      "execution_count": 142,
      "outputs": [
        {
          "output_type": "error",
          "ename": "FileNotFoundError",
          "evalue": "ignored",
          "traceback": [
            "\u001b[0;31m---------------------------------------------------------------------------\u001b[0m",
            "\u001b[0;31mFileNotFoundError\u001b[0m                         Traceback (most recent call last)",
            "\u001b[0;32m<ipython-input-142-a006f8c92b21>\u001b[0m in \u001b[0;36m<module>\u001b[0;34m()\u001b[0m\n\u001b[0;32m----> 1\u001b[0;31m \u001b[0mdf\u001b[0m \u001b[0;34m=\u001b[0m \u001b[0mpd\u001b[0m\u001b[0;34m.\u001b[0m\u001b[0mread_csv\u001b[0m\u001b[0;34m(\u001b[0m\u001b[0;34m'LendingClub_Loan_status_2018-2020Q3.csv'\u001b[0m\u001b[0;34m)\u001b[0m\u001b[0;34m.\u001b[0m\u001b[0miloc\u001b[0m\u001b[0;34m[\u001b[0m\u001b[0;34m:\u001b[0m\u001b[0;34m,\u001b[0m\u001b[0;36m1\u001b[0m\u001b[0;34m:\u001b[0m\u001b[0;34m]\u001b[0m\u001b[0;34m\u001b[0m\u001b[0;34m\u001b[0m\u001b[0m\n\u001b[0m\u001b[1;32m      2\u001b[0m \u001b[0mprint\u001b[0m\u001b[0;34m(\u001b[0m\u001b[0mdf\u001b[0m\u001b[0;34m.\u001b[0m\u001b[0mshape\u001b[0m\u001b[0;34m)\u001b[0m\u001b[0;34m\u001b[0m\u001b[0;34m\u001b[0m\u001b[0m\n\u001b[1;32m      3\u001b[0m \u001b[0mdf\u001b[0m\u001b[0;34m.\u001b[0m\u001b[0mhead\u001b[0m\u001b[0;34m(\u001b[0m\u001b[0;34m)\u001b[0m\u001b[0;34m\u001b[0m\u001b[0;34m\u001b[0m\u001b[0m\n",
            "\u001b[0;32m/usr/local/lib/python3.7/dist-packages/pandas/io/parsers.py\u001b[0m in \u001b[0;36mread_csv\u001b[0;34m(filepath_or_buffer, sep, delimiter, header, names, index_col, usecols, squeeze, prefix, mangle_dupe_cols, dtype, engine, converters, true_values, false_values, skipinitialspace, skiprows, skipfooter, nrows, na_values, keep_default_na, na_filter, verbose, skip_blank_lines, parse_dates, infer_datetime_format, keep_date_col, date_parser, dayfirst, cache_dates, iterator, chunksize, compression, thousands, decimal, lineterminator, quotechar, quoting, doublequote, escapechar, comment, encoding, dialect, error_bad_lines, warn_bad_lines, delim_whitespace, low_memory, memory_map, float_precision)\u001b[0m\n\u001b[1;32m    686\u001b[0m     )\n\u001b[1;32m    687\u001b[0m \u001b[0;34m\u001b[0m\u001b[0m\n\u001b[0;32m--> 688\u001b[0;31m     \u001b[0;32mreturn\u001b[0m \u001b[0m_read\u001b[0m\u001b[0;34m(\u001b[0m\u001b[0mfilepath_or_buffer\u001b[0m\u001b[0;34m,\u001b[0m \u001b[0mkwds\u001b[0m\u001b[0;34m)\u001b[0m\u001b[0;34m\u001b[0m\u001b[0;34m\u001b[0m\u001b[0m\n\u001b[0m\u001b[1;32m    689\u001b[0m \u001b[0;34m\u001b[0m\u001b[0m\n\u001b[1;32m    690\u001b[0m \u001b[0;34m\u001b[0m\u001b[0m\n",
            "\u001b[0;32m/usr/local/lib/python3.7/dist-packages/pandas/io/parsers.py\u001b[0m in \u001b[0;36m_read\u001b[0;34m(filepath_or_buffer, kwds)\u001b[0m\n\u001b[1;32m    452\u001b[0m \u001b[0;34m\u001b[0m\u001b[0m\n\u001b[1;32m    453\u001b[0m     \u001b[0;31m# Create the parser.\u001b[0m\u001b[0;34m\u001b[0m\u001b[0;34m\u001b[0m\u001b[0;34m\u001b[0m\u001b[0m\n\u001b[0;32m--> 454\u001b[0;31m     \u001b[0mparser\u001b[0m \u001b[0;34m=\u001b[0m \u001b[0mTextFileReader\u001b[0m\u001b[0;34m(\u001b[0m\u001b[0mfp_or_buf\u001b[0m\u001b[0;34m,\u001b[0m \u001b[0;34m**\u001b[0m\u001b[0mkwds\u001b[0m\u001b[0;34m)\u001b[0m\u001b[0;34m\u001b[0m\u001b[0;34m\u001b[0m\u001b[0m\n\u001b[0m\u001b[1;32m    455\u001b[0m \u001b[0;34m\u001b[0m\u001b[0m\n\u001b[1;32m    456\u001b[0m     \u001b[0;32mif\u001b[0m \u001b[0mchunksize\u001b[0m \u001b[0;32mor\u001b[0m \u001b[0miterator\u001b[0m\u001b[0;34m:\u001b[0m\u001b[0;34m\u001b[0m\u001b[0;34m\u001b[0m\u001b[0m\n",
            "\u001b[0;32m/usr/local/lib/python3.7/dist-packages/pandas/io/parsers.py\u001b[0m in \u001b[0;36m__init__\u001b[0;34m(self, f, engine, **kwds)\u001b[0m\n\u001b[1;32m    946\u001b[0m             \u001b[0mself\u001b[0m\u001b[0;34m.\u001b[0m\u001b[0moptions\u001b[0m\u001b[0;34m[\u001b[0m\u001b[0;34m\"has_index_names\"\u001b[0m\u001b[0;34m]\u001b[0m \u001b[0;34m=\u001b[0m \u001b[0mkwds\u001b[0m\u001b[0;34m[\u001b[0m\u001b[0;34m\"has_index_names\"\u001b[0m\u001b[0;34m]\u001b[0m\u001b[0;34m\u001b[0m\u001b[0;34m\u001b[0m\u001b[0m\n\u001b[1;32m    947\u001b[0m \u001b[0;34m\u001b[0m\u001b[0m\n\u001b[0;32m--> 948\u001b[0;31m         \u001b[0mself\u001b[0m\u001b[0;34m.\u001b[0m\u001b[0m_make_engine\u001b[0m\u001b[0;34m(\u001b[0m\u001b[0mself\u001b[0m\u001b[0;34m.\u001b[0m\u001b[0mengine\u001b[0m\u001b[0;34m)\u001b[0m\u001b[0;34m\u001b[0m\u001b[0;34m\u001b[0m\u001b[0m\n\u001b[0m\u001b[1;32m    949\u001b[0m \u001b[0;34m\u001b[0m\u001b[0m\n\u001b[1;32m    950\u001b[0m     \u001b[0;32mdef\u001b[0m \u001b[0mclose\u001b[0m\u001b[0;34m(\u001b[0m\u001b[0mself\u001b[0m\u001b[0;34m)\u001b[0m\u001b[0;34m:\u001b[0m\u001b[0;34m\u001b[0m\u001b[0;34m\u001b[0m\u001b[0m\n",
            "\u001b[0;32m/usr/local/lib/python3.7/dist-packages/pandas/io/parsers.py\u001b[0m in \u001b[0;36m_make_engine\u001b[0;34m(self, engine)\u001b[0m\n\u001b[1;32m   1178\u001b[0m     \u001b[0;32mdef\u001b[0m \u001b[0m_make_engine\u001b[0m\u001b[0;34m(\u001b[0m\u001b[0mself\u001b[0m\u001b[0;34m,\u001b[0m \u001b[0mengine\u001b[0m\u001b[0;34m=\u001b[0m\u001b[0;34m\"c\"\u001b[0m\u001b[0;34m)\u001b[0m\u001b[0;34m:\u001b[0m\u001b[0;34m\u001b[0m\u001b[0;34m\u001b[0m\u001b[0m\n\u001b[1;32m   1179\u001b[0m         \u001b[0;32mif\u001b[0m \u001b[0mengine\u001b[0m \u001b[0;34m==\u001b[0m \u001b[0;34m\"c\"\u001b[0m\u001b[0;34m:\u001b[0m\u001b[0;34m\u001b[0m\u001b[0;34m\u001b[0m\u001b[0m\n\u001b[0;32m-> 1180\u001b[0;31m             \u001b[0mself\u001b[0m\u001b[0;34m.\u001b[0m\u001b[0m_engine\u001b[0m \u001b[0;34m=\u001b[0m \u001b[0mCParserWrapper\u001b[0m\u001b[0;34m(\u001b[0m\u001b[0mself\u001b[0m\u001b[0;34m.\u001b[0m\u001b[0mf\u001b[0m\u001b[0;34m,\u001b[0m \u001b[0;34m**\u001b[0m\u001b[0mself\u001b[0m\u001b[0;34m.\u001b[0m\u001b[0moptions\u001b[0m\u001b[0;34m)\u001b[0m\u001b[0;34m\u001b[0m\u001b[0;34m\u001b[0m\u001b[0m\n\u001b[0m\u001b[1;32m   1181\u001b[0m         \u001b[0;32melse\u001b[0m\u001b[0;34m:\u001b[0m\u001b[0;34m\u001b[0m\u001b[0;34m\u001b[0m\u001b[0m\n\u001b[1;32m   1182\u001b[0m             \u001b[0;32mif\u001b[0m \u001b[0mengine\u001b[0m \u001b[0;34m==\u001b[0m \u001b[0;34m\"python\"\u001b[0m\u001b[0;34m:\u001b[0m\u001b[0;34m\u001b[0m\u001b[0;34m\u001b[0m\u001b[0m\n",
            "\u001b[0;32m/usr/local/lib/python3.7/dist-packages/pandas/io/parsers.py\u001b[0m in \u001b[0;36m__init__\u001b[0;34m(self, src, **kwds)\u001b[0m\n\u001b[1;32m   2008\u001b[0m         \u001b[0mkwds\u001b[0m\u001b[0;34m[\u001b[0m\u001b[0;34m\"usecols\"\u001b[0m\u001b[0;34m]\u001b[0m \u001b[0;34m=\u001b[0m \u001b[0mself\u001b[0m\u001b[0;34m.\u001b[0m\u001b[0musecols\u001b[0m\u001b[0;34m\u001b[0m\u001b[0;34m\u001b[0m\u001b[0m\n\u001b[1;32m   2009\u001b[0m \u001b[0;34m\u001b[0m\u001b[0m\n\u001b[0;32m-> 2010\u001b[0;31m         \u001b[0mself\u001b[0m\u001b[0;34m.\u001b[0m\u001b[0m_reader\u001b[0m \u001b[0;34m=\u001b[0m \u001b[0mparsers\u001b[0m\u001b[0;34m.\u001b[0m\u001b[0mTextReader\u001b[0m\u001b[0;34m(\u001b[0m\u001b[0msrc\u001b[0m\u001b[0;34m,\u001b[0m \u001b[0;34m**\u001b[0m\u001b[0mkwds\u001b[0m\u001b[0;34m)\u001b[0m\u001b[0;34m\u001b[0m\u001b[0;34m\u001b[0m\u001b[0m\n\u001b[0m\u001b[1;32m   2011\u001b[0m         \u001b[0mself\u001b[0m\u001b[0;34m.\u001b[0m\u001b[0munnamed_cols\u001b[0m \u001b[0;34m=\u001b[0m \u001b[0mself\u001b[0m\u001b[0;34m.\u001b[0m\u001b[0m_reader\u001b[0m\u001b[0;34m.\u001b[0m\u001b[0munnamed_cols\u001b[0m\u001b[0;34m\u001b[0m\u001b[0;34m\u001b[0m\u001b[0m\n\u001b[1;32m   2012\u001b[0m \u001b[0;34m\u001b[0m\u001b[0m\n",
            "\u001b[0;32mpandas/_libs/parsers.pyx\u001b[0m in \u001b[0;36mpandas._libs.parsers.TextReader.__cinit__\u001b[0;34m()\u001b[0m\n",
            "\u001b[0;32mpandas/_libs/parsers.pyx\u001b[0m in \u001b[0;36mpandas._libs.parsers.TextReader._setup_parser_source\u001b[0;34m()\u001b[0m\n",
            "\u001b[0;31mFileNotFoundError\u001b[0m: [Errno 2] No such file or directory: 'LendingClub_Loan_status_2018-2020Q3.csv'"
          ]
        }
      ]
    },
    {
      "cell_type": "code",
      "metadata": {
        "id": "94YRglaQ4Zlx"
      },
      "source": [
        "msno.bar(df=df.iloc[:, :], color=(0.8, 0.5, 0.2))"
      ],
      "execution_count": null,
      "outputs": []
    },
    {
      "cell_type": "markdown",
      "metadata": {
        "id": "7VHyt1rb5X0F"
      },
      "source": [
        "## 2.2 데이터 전처리"
      ]
    },
    {
      "cell_type": "markdown",
      "metadata": {
        "id": "1OW-fcxf5ddl"
      },
      "source": [
        "1. 대출 후 생성 변수 제거\n",
        "2. 최빈값의 빈도가 99% 이상인 범주형 변수 제거\n",
        "3. 범주형 데이터 타입 정리\n",
        "4. 범주의 수가 50개 이상인 변수 제거\n",
        "5. 결측값 절반 이상 칼럼 제거"
      ]
    },
    {
      "cell_type": "markdown",
      "metadata": {
        "id": "XEPxa_InHDf5"
      },
      "source": [
        "### 2.2.1 대출 후 생성 변수 제거  \n",
        "렌딩클럽 데이터에는 대출 생성 전에는 존재하지 않는 대출 수 생성 변수가 존재한다. 대출 후 생성 변수는 모형에 학습될 경우, 과적합될 가능성이 높아진다.   \n",
        "recoveries와 같은 변수는 추심된 금액 중 회복된 금액을 설명한다. 이와 유사하게 대출 후 생성 변수 30개를 제거한다. "
      ]
    },
    {
      "cell_type": "code",
      "metadata": {
        "id": "hZuSPp3aH5hy"
      },
      "source": [
        "recoveries_list = ['out_prncp', 'out_prncp_inv', 'total_pymnt', 'total_pymnt_inv', 'total_rec_prncp', 'total_rec_int',\n",
        "'total_rec_late_fee', 'recoveries', 'collection_recovery_fee', 'last_pymnt_d', 'last_pymnt_amnt', 'next_pymnt_d',\n",
        "'last_credit_pull_d', 'collections_12_mths_ex_med', 'mths_since_last_major_derog', 'hardship_flag',\n",
        "'hardship_type', 'hardship_reason', 'hardship_status', 'deferral_term', 'hardship_amount',\n",
        "'hardship_start_date', 'hardship_end_date', 'payment_plan_start_date', 'hardship_length', 'hardship_dpd',\n",
        "'hardship_loan_status', 'orig_projected_additional_accrued_interest', 'hardship_payoff_balance_amount',\n",
        "'hardship_last_payment_amount']"
      ],
      "execution_count": null,
      "outputs": []
    },
    {
      "cell_type": "code",
      "metadata": {
        "id": "AW2PKTLoFk28"
      },
      "source": [
        "df.drop(columns=recoveries_list,axis=1, inplace=True)"
      ],
      "execution_count": null,
      "outputs": []
    },
    {
      "cell_type": "markdown",
      "metadata": {
        "id": "dumG9vy-R9Tm"
      },
      "source": [
        "### 2.2.2 최빈값의 빈도가 99% 이상인 범주형 변수 제거  \n",
        "최빈값의 빈도가 99% 이상인 범주형 변수는 모형에 학습된다고 해도 결과 변수에 영향을 주지못한다.\n"
      ]
    },
    {
      "cell_type": "code",
      "metadata": {
        "id": "ZGWPrLNtTU3Z"
      },
      "source": [
        "mode_99_list = ['pymnt_plan', 'policy_code', 'debt_settlement_flag', \n",
        "                'num_tl_120dpd_2m', 'acc_now_delinq', 'num_tl_30dpd']"
      ],
      "execution_count": null,
      "outputs": []
    },
    {
      "cell_type": "code",
      "metadata": {
        "id": "Hq377M2-TyNR"
      },
      "source": [
        "df.drop(columns=mode_99_list,axis=1, inplace=True)"
      ],
      "execution_count": null,
      "outputs": []
    },
    {
      "cell_type": "markdown",
      "metadata": {
        "id": "bprJBJIpUjjY"
      },
      "source": [
        "### 2.2.3 범주형 데이터 타입 정리\n",
        "emp_length는 재직 기간을 의미하는 변수로, 범주의 수가 10개 이상으로 dummy encoding을 진행할 경우 차원이 10개 이상 늘어나게 된다. 따라서 이를 방지하기 위해 범주군을 묶어주었다.\n",
        "- less than 3 years: 1년 이하 ~ 3년\n",
        "- more than 4 years and less than 9 years: 4년 ~ 9년\n",
        "- 10+ years: 10년 이상\n",
        "- unemployed: nan"
      ]
    },
    {
      "cell_type": "code",
      "metadata": {
        "id": "tXDIRkd9YpKC"
      },
      "source": [
        "df.loc[(df['emp_length']== '< 1 year')|(df['emp_length']== '1 year')|(df['emp_length']== '2 years')|(df['emp_length']== '3 years'),'emp_length'] = 'less than 3 years'\n",
        "df.loc[(df['emp_length']== '4 years')|(df['emp_length']== '5 years')|(df['emp_length']== '6 years')|(df['emp_length']== '7 years')|(df['emp_length']== '8 years')|(df['emp_length']== '9 years'),'emp_length'] = 'more than 4 years and less than 9 years'\n",
        "df['emp_length'].fillna('unemployed', inplace=True)"
      ],
      "execution_count": null,
      "outputs": []
    },
    {
      "cell_type": "markdown",
      "metadata": {
        "id": "QUSv1fEwadSS"
      },
      "source": [
        "purpose의 경우 대출 목적의 의미를 가진 변수로, 이 또한 범주군을 묶어주었다.\n",
        "- General loan debt: car, home_improvement, house, major_purchase, medical, moving,\n",
        "other, renewable_energy, small_business, vacation, wedding \n",
        "- credit_card: credit_card\n",
        "- debt_consolidation: debt_consolidation"
      ]
    },
    {
      "cell_type": "code",
      "metadata": {
        "id": "OTf2C6BaaM1O"
      },
      "source": [
        "df.loc[(df['purpose']== 'car')|(df['purpose']== 'home_improvement')|(df['purpose']== 'house')|(df['purpose']== 'major_purchase')|\n",
        "       (df['purpose']== 'medical')|(df['purpose']== 'moving')|(df['purpose']== 'other')|(df['purpose']== 'renewable_energy')|(df['purpose']== 'small_business')|\n",
        "       (df['purpose']== 'vacation')|(df['purpose']== 'wedding'),'purpose'] = 'General loan debt'"
      ],
      "execution_count": null,
      "outputs": []
    },
    {
      "cell_type": "markdown",
      "metadata": {
        "id": "yoVu-HkToUv9"
      },
      "source": [
        "int_rate, revol_util 변수는 %가 붙어 있으므로, 수치형으로 변환해주었다."
      ]
    },
    {
      "cell_type": "code",
      "metadata": {
        "id": "WPaUszV5p7Xs"
      },
      "source": [
        "df[['int_rate', 'revol_util']] = df[['int_rate', 'revol_util']].replace('%','', regex=True).apply(pd.to_numeric)"
      ],
      "execution_count": null,
      "outputs": []
    },
    {
      "cell_type": "markdown",
      "metadata": {
        "id": "zc9t2fnuT_Pz"
      },
      "source": [
        "### 2.2.4 범주의 수가 50개 이상인 변수 제거"
      ]
    },
    {
      "cell_type": "code",
      "metadata": {
        "id": "14uhZMay7gux"
      },
      "source": [
        "selected_cols = df.select_dtypes(include='object')\n",
        "colnames = selected_cols.columns.tolist()\n",
        "labels = selected_cols.nunique()\n",
        "\n",
        "selected_features = labels[labels >= 50].index.tolist()"
      ],
      "execution_count": null,
      "outputs": []
    },
    {
      "cell_type": "code",
      "metadata": {
        "id": "gF594qU8tQwx"
      },
      "source": [
        "df.drop(columns=selected_features,axis=1, inplace=True)"
      ],
      "execution_count": null,
      "outputs": []
    },
    {
      "cell_type": "markdown",
      "metadata": {
        "id": "6AI7lzDYfpPG"
      },
      "source": [
        "### 2.2.5 결측값 절반 이상 칼럼 제거"
      ]
    },
    {
      "cell_type": "code",
      "metadata": {
        "id": "5Jy6u9j5446u"
      },
      "source": [
        "df.dropna(thresh=int(len(df) * 0.5), axis=1, inplace=True)"
      ],
      "execution_count": null,
      "outputs": []
    },
    {
      "cell_type": "markdown",
      "metadata": {
        "id": "zcd5HDH1Optr"
      },
      "source": [
        "### 2.2.6 변수 생성\n",
        "loan_status 변수를 정상(0)과 불량(1)으로 이진 분류해주었다.\n",
        "- 0: Fully Paid, Current\n",
        "- 1: Late (31-120 days), Charged Off, In Grace Period, Late (16-30 days), Default, Issued"
      ]
    },
    {
      "cell_type": "code",
      "metadata": {
        "id": "hLsJ4WNeNukk"
      },
      "source": [
        "df.loc[(df['loan_status']== 'Fully Paid')|(df['loan_status']== 'Current'),\"loan_payment\"]= 0"
      ],
      "execution_count": null,
      "outputs": []
    },
    {
      "cell_type": "code",
      "metadata": {
        "id": "tUmBT7IHMiqP"
      },
      "source": [
        "df.loc[(df['loan_status']== 'Late (31-120 days)')|(df['loan_status']== 'Charged Off')|\n",
        "       (df['loan_status']== 'In Grace Period')|(df['loan_status']== 'Late (16-30 days)')|\n",
        "       (df['loan_status']== 'Default')|(df['loan_status']== 'Issued')|\n",
        "       (df['loan_status']== 'Late (31-120 days)'),'loan_payment'] = 1"
      ],
      "execution_count": null,
      "outputs": []
    },
    {
      "cell_type": "markdown",
      "metadata": {
        "id": "4WOsq9BehUAt"
      },
      "source": [
        "## 2.3 EDA"
      ]
    },
    {
      "cell_type": "code",
      "metadata": {
        "id": "_8_wvr7NhjDm"
      },
      "source": [
        "df.shape"
      ],
      "execution_count": null,
      "outputs": []
    },
    {
      "cell_type": "code",
      "metadata": {
        "id": "MSh2K54HPljD"
      },
      "source": [
        "df.describe()"
      ],
      "execution_count": null,
      "outputs": []
    },
    {
      "cell_type": "code",
      "metadata": {
        "id": "EjxTZwWJFaRd"
      },
      "source": [
        "msno.bar(df=df.iloc[:, :], color=(0.8, 0.5, 0.2))"
      ],
      "execution_count": null,
      "outputs": []
    },
    {
      "cell_type": "code",
      "metadata": {
        "id": "7bu5hBfPLINJ"
      },
      "source": [
        "sns.kdeplot(x=df[\"annual_inc\"])"
      ],
      "execution_count": null,
      "outputs": []
    },
    {
      "cell_type": "code",
      "metadata": {
        "id": "ySicZyy5Ih2n"
      },
      "source": [
        "sns.boxplot(df['annual_inc'])"
      ],
      "execution_count": null,
      "outputs": []
    },
    {
      "cell_type": "code",
      "metadata": {
        "id": "ivE4Kr9IIN6v"
      },
      "source": [
        "sns.scatterplot(data = df, x ='annual_inc' , y ='loan_amnt')"
      ],
      "execution_count": null,
      "outputs": []
    },
    {
      "cell_type": "code",
      "metadata": {
        "id": "Focfk2WvKA__"
      },
      "source": [
        "sns.barplot(x='home_ownership', y = 'loan_amnt', data = df)"
      ],
      "execution_count": null,
      "outputs": []
    },
    {
      "cell_type": "code",
      "metadata": {
        "id": "xvDjhJXjKLpd"
      },
      "source": [
        "sns.barplot(x='loan_status', y = 'loan_amnt', data = df)"
      ],
      "execution_count": null,
      "outputs": []
    },
    {
      "cell_type": "code",
      "metadata": {
        "id": "cYEMoQ_2Qdsp"
      },
      "source": [
        "sns.boxplot(y = df['loan_amnt'], x = df['loan_status'])"
      ],
      "execution_count": null,
      "outputs": []
    },
    {
      "cell_type": "code",
      "metadata": {
        "id": "av24ATjYNW8n"
      },
      "source": [
        "sns.countplot(x = df['loan_payment'])"
      ],
      "execution_count": null,
      "outputs": []
    },
    {
      "cell_type": "code",
      "metadata": {
        "id": "knyO71szObRr"
      },
      "source": [
        "sns.barplot(x='loan_payment', y = 'loan_amnt', data = df)"
      ],
      "execution_count": null,
      "outputs": []
    },
    {
      "cell_type": "code",
      "metadata": {
        "id": "bJRWbpC4YmJK"
      },
      "source": [
        "plt.figure(figsize=(20,20))\n",
        "sns.heatmap(df.drop(columns=['loan_status','id','issue_d','grade']).corr())"
      ],
      "execution_count": null,
      "outputs": []
    },
    {
      "cell_type": "markdown",
      "metadata": {
        "id": "NpzmDsQWS82h"
      },
      "source": [
        "# 3. 모델링"
      ]
    },
    {
      "cell_type": "code",
      "metadata": {
        "id": "-qLjUGkMV682"
      },
      "source": [
        "# 평가지표 함수\n",
        "def model_evaluation(label, predict):\n",
        "    cf_matrix = confusion_matrix(label, predict)\n",
        "    Accuracy = (cf_matrix[0][0] + cf_matrix[1][1]) / sum(sum(cf_matrix))\n",
        "    Precision = cf_matrix[1][1] / (cf_matrix[1][1] + cf_matrix[0][1])\n",
        "    Recall = cf_matrix[1][1] / (cf_matrix[1][1] + cf_matrix[1][0])\n",
        "    F1_Score = (2 * Recall * Precision) / (Recall + Precision)\n",
        "    print(\"Model_Evaluation with Label: 1\")\n",
        "    print(\"Accuracy: {:.1%}\".format(Accuracy))\n",
        "    print(\"Precision: {:.1%}\".format(Precision))\n",
        "    print(\"Recall: {:.1%}\".format(Recall))\n",
        "    print(\"F1-Score: {:.1%}\".format(F1_Score))"
      ],
      "execution_count": null,
      "outputs": []
    },
    {
      "cell_type": "markdown",
      "metadata": {
        "id": "cRlOmhYfTDtL"
      },
      "source": [
        "## 3.1 타겟 지정 및 데이터 세트 분할"
      ]
    },
    {
      "cell_type": "code",
      "metadata": {
        "id": "08SeADYPZrIk"
      },
      "source": [
        "target= 'loan_payment'\n",
        "\n",
        "# test set 만들기\n",
        "test = df[(df['issue_d'] == 'Sep-2020') | (df['issue_d'] == 'May-2020')]\n",
        "train = df.drop(test.index)\n",
        "\n",
        "# validation set 만들기\n",
        "train, val = train_test_split(train, train_size = 0.8, stratify=train[target], random_state=10)"
      ],
      "execution_count": null,
      "outputs": []
    },
    {
      "cell_type": "code",
      "metadata": {
        "id": "fBPnopbbehhZ"
      },
      "source": [
        "# target 지정 및 데이터 세트 분할\n",
        "# loan_payment: Target, id: Always unique, issue_d: Date, grade: Duplicative of sub_grade\n",
        "features = train.drop(columns=['loan_status','loan_payment','id','issue_d','grade']).columns\n",
        "\n",
        "X_train = train[features]\n",
        "y_train = train[target]\n",
        "X_val = val[features]\n",
        "y_val = val[target]\n",
        "X_test = test[features]\n",
        "y_test = test[target]"
      ],
      "execution_count": null,
      "outputs": []
    },
    {
      "cell_type": "code",
      "metadata": {
        "id": "iV3ivyBvizVJ"
      },
      "source": [
        "print('X_train shape', X_train.shape)\n",
        "print('y_train shape', y_train.shape)\n",
        "print('X_val shape', X_val.shape)\n",
        "print('y_val shape', y_val.shape)\n",
        "print('X_test shape', X_test.shape)\n",
        "print('y_test shape', y_test.shape)"
      ],
      "execution_count": null,
      "outputs": []
    },
    {
      "cell_type": "code",
      "metadata": {
        "id": "jyi3j7huS8V_"
      },
      "source": [
        "# Data Processing Pipeline\n",
        "processor = make_pipeline(\n",
        "    OrdinalEncoder(), \n",
        "    SimpleImputer(strategy='mean')\n",
        ")\n",
        "X_train_processed = processor.fit_transform(X_train)\n",
        "X_val_processed = processor.transform(X_val)\n",
        "\n",
        "# Scailing\n",
        "scaler = StandardScaler()\n",
        "X_train_scaled = scaler.fit_transform(X_train_processed)\n",
        "X_val_scaled = scaler.transform(X_val_processed)"
      ],
      "execution_count": null,
      "outputs": []
    },
    {
      "cell_type": "markdown",
      "metadata": {
        "id": "qVjjxMZEkJg_"
      },
      "source": [
        "## 3.2 기본값 모델링"
      ]
    },
    {
      "cell_type": "code",
      "metadata": {
        "id": "CwRqaibljmA9"
      },
      "source": [
        "y_train.value_counts(normalize=True)"
      ],
      "execution_count": null,
      "outputs": []
    },
    {
      "cell_type": "code",
      "metadata": {
        "id": "0RSJb4UekhGk"
      },
      "source": [
        "# Majority class baseline\n",
        "# 기준모델 학습세트\n",
        "major = y_train.mode()[0]\n",
        "y_train_pred = [major] *len(y_train)\n",
        "print(\"기준모델 학습세트 평가\")\n",
        "model_evaluation(y_train, y_train_pred)\n",
        "print(\"\\n\")\n",
        "\n",
        "# 기준모델 검증세트\n",
        "y_val = val[target]\n",
        "y_val_pred = [major] * len(y_val)\n",
        "print(\"기준모델 검증세트 평가\")\n",
        "model_evaluation(y_val, y_val_pred)"
      ],
      "execution_count": null,
      "outputs": []
    },
    {
      "cell_type": "code",
      "metadata": {
        "id": "elkU03Nam3MP"
      },
      "source": [
        "# Logistic Regression\n",
        "lr = LogisticRegression(random_state=10, n_jobs=-1)\n",
        "lr.fit(X_train_scaled, y_train)\n",
        "y_pred_lr = lr.predict(X_val_scaled)\n",
        "\n",
        "print(\"로지스틱 검증세트 평가\")\n",
        "model_evaluation(y_val, y_pred_lr)"
      ],
      "execution_count": null,
      "outputs": []
    },
    {
      "cell_type": "code",
      "metadata": {
        "id": "8QJoEilFJnLP"
      },
      "source": [
        "# Decision Tree Classifier\n",
        "dtc = DecisionTreeClassifier(random_state=1, max_depth=6,\n",
        "                           min_samples_leaf=3, min_samples_split=2)\n",
        "dtc.fit(X_train_processed, y_train)\n",
        "y_pred_dtc = dtc.predict(X_val_processed)\n",
        "\n",
        "print(\"결정트리 검증세트 평가\")\n",
        "model_evaluation(y_val, y_pred_dtc)"
      ],
      "execution_count": null,
      "outputs": []
    },
    {
      "cell_type": "code",
      "metadata": {
        "id": "KjXTE25cWLXv"
      },
      "source": [
        "# Random Forest Classifier\n",
        "rfc = RandomForestClassifier(random_state=1, n_jobs=-1)\n",
        "rfc.fit(X_train_processed, y_train)\n",
        "y_pred_rfc = rfc.predict(X_val_processed)\n",
        "\n",
        "print(\"렌덤포레스트 검증세트 평가\")\n",
        "model_evaluation(y_val, y_pred_rfc)"
      ],
      "execution_count": null,
      "outputs": []
    },
    {
      "cell_type": "code",
      "metadata": {
        "id": "ryHwe00iYZjP"
      },
      "source": [
        "# XGB Classifier\n",
        "xgb = XGBClassifier(random_state=10, n_jobs=-1)\n",
        "xgb.fit(X_train_processed, y_train)\n",
        "y_pred_xgb = xgb.predict(X_val_processed)\n",
        "\n",
        "print(\"XGBoost 검증세트 평가\")\n",
        "model_evaluation(y_val, y_pred_xgb)"
      ],
      "execution_count": null,
      "outputs": []
    },
    {
      "cell_type": "code",
      "metadata": {
        "id": "Nk2441jcZiyT"
      },
      "source": [
        "# LGBM Classifier\n",
        "lgb = LGBMClassifier(random_state=10, n_jobs=-1)\n",
        "lgb.fit(X_train_processed, y_train);\n",
        "y_pred_lgb = lgb.predict(X_val_processed)\n",
        "\n",
        "print(\"LGBM 검증세트 평가\")\n",
        "model_evaluation(y_val, y_pred_lgb)"
      ],
      "execution_count": null,
      "outputs": []
    },
    {
      "cell_type": "code",
      "metadata": {
        "id": "5MWJUDApY-gA"
      },
      "source": [
        "# CatBoostClassifier\n",
        "cbc = CatBoostClassifier(random_state=10)\n",
        "cbc.fit(X_train_processed, y_train);\n",
        "y_pred_cbc = cbc.predict(X_val_processed)\n",
        "\n",
        "print(\"CatBoost 검증세트 평가\")\n",
        "model_evaluation(y_val, y_pred_cbc)"
      ],
      "execution_count": null,
      "outputs": []
    },
    {
      "cell_type": "markdown",
      "metadata": {
        "id": "9_wotVEsXxpb"
      },
      "source": [
        "## 3.4 SMOTE를 이용한 Oversampling 후 모델링"
      ]
    },
    {
      "cell_type": "code",
      "metadata": {
        "id": "qYNayILHYovB"
      },
      "source": [
        "print(\"OverSampling 전, '불량(1)' 라벨의 수: {}\".format(sum(y_train == 1)))\n",
        "print(\"OverSampling 전, '정상(0)' 라벨의 수: {}\".format(sum(y_train == 0)))"
      ],
      "execution_count": null,
      "outputs": []
    },
    {
      "cell_type": "code",
      "metadata": {
        "id": "mSkfwakMaAGO"
      },
      "source": [
        "# SMOTE 알고리즘 활용하여 Oversampling 진행\n",
        "sm = SMOTE(random_state = 10)\n",
        "X_train_res, y_train_res = sm.fit_resample(X_train_processed, y_train.ravel()) "
      ],
      "execution_count": null,
      "outputs": []
    },
    {
      "cell_type": "code",
      "metadata": {
        "id": "AmWX2MBVaLkd"
      },
      "source": [
        "print(\"OverSampling 후, '불량(1)' 라벨의 수: {}\".format(sum(y_train_res == 1)))\n",
        "print(\"OverSampling 후, '정상(0)' 라벨의 수: {}\".format(sum(y_train_res == 0)))"
      ],
      "execution_count": null,
      "outputs": []
    },
    {
      "cell_type": "code",
      "metadata": {
        "id": "8yWbjZdOahm7"
      },
      "source": [
        "pd.Series(y_train_res).value_counts(normalize=True)"
      ],
      "execution_count": null,
      "outputs": []
    },
    {
      "cell_type": "code",
      "metadata": {
        "id": "uk5EXx_teUWK"
      },
      "source": [
        "sns.countplot(x=pd.Series(y_train_res))"
      ],
      "execution_count": null,
      "outputs": []
    },
    {
      "cell_type": "code",
      "metadata": {
        "id": "GYPVMjLLfH3q"
      },
      "source": [
        "# Logistic Regression Over Sampling\n",
        "lr2 = LogisticRegression(random_state=10, n_jobs=-1)\n",
        "lr2.fit(X_train_res, y_train_res)\n",
        "y_pred_lr2 = lr2.predict(X_val_scaled)\n",
        "\n",
        "print(\"로지스틱 검증세트 평가\")\n",
        "model_evaluation(y_val, y_pred_lr2)"
      ],
      "execution_count": null,
      "outputs": []
    },
    {
      "cell_type": "code",
      "metadata": {
        "id": "wfuh4qLkJIKh"
      },
      "source": [
        "# Decision Tree Classifier Over Sampling\n",
        "dtc2 = DecisionTreeClassifier(random_state=10, max_depth=6,\n",
        "                           min_samples_leaf=3, min_samples_split=2)\n",
        "dtc2.fit(X_train_res, y_train_res)\n",
        "y_pred_dtc2 = dtc2.predict(X_val_processed)\n",
        "\n",
        "print(\"결정트리 검증세트 평가\")\n",
        "model_evaluation(y_val, y_pred_dtc2)"
      ],
      "execution_count": null,
      "outputs": []
    },
    {
      "cell_type": "code",
      "metadata": {
        "id": "yIVZTmLTKUYX"
      },
      "source": [
        "# Random Forest Classifier Over Sampling\n",
        "rfc2 = RandomForestClassifier(max_depth=12, min_samples_leaf=2, min_samples_split= 18, n_estimators=300,\n",
        "                           criterion='entropy', max_features='auto',n_jobs=-1, random_state=10)\n",
        "rfc2.fit(X_train_res, y_train_res)\n",
        "y_pred_rfc2 = rfc2.predict(X_val_processed)\n",
        "\n",
        "print(\"렌덤포레스트 검증세트 평가\")\n",
        "model_evaluation(y_val, y_pred_rfc2)"
      ],
      "execution_count": null,
      "outputs": []
    },
    {
      "cell_type": "code",
      "metadata": {
        "id": "1c1CtIS8W_uy"
      },
      "source": [
        "# XGBClassifier Over Sampling\n",
        "xgb2 = XGBClassifier(random_state=10, n_jobs=-1)\n",
        "xgb2.fit(X_train_res, y_train_res)\n",
        "y_pred_xgb2 = xgb2.predict(X_val_processed)\n",
        "\n",
        "print(\"XGBoost 검증세트 평가\")\n",
        "model_evaluation(y_val, y_pred_xgb2)"
      ],
      "execution_count": null,
      "outputs": []
    },
    {
      "cell_type": "code",
      "metadata": {
        "id": "HBbsUVwhY377"
      },
      "source": [
        "# LGBM Classifier Over Sampling\n",
        "lgb2 = LGBMClassifier(random_state=10, n_jobs=-1)\n",
        "lgb2.fit(X_train_res, y_train_res);\n",
        "y_pred_lgb2 = lgb2.predict(X_val_processed)\n",
        "\n",
        "print(\"LGBM 검증세트 평가\")\n",
        "model_evaluation(y_val, y_pred_lgb2)"
      ],
      "execution_count": null,
      "outputs": []
    },
    {
      "cell_type": "code",
      "metadata": {
        "id": "NMo4pxLUbKGP"
      },
      "source": [
        "# CatBoostClassifier Over Sampling\n",
        "cbc2 = CatBoostClassifier(random_state=10)\n",
        "cbc2.fit(X_train_res, y_train_res);\n",
        "y_pred_cbc2 = cbc2.predict(X_val_processed)\n",
        "\n",
        "print(\"CatBoost 검증세트 평가\")\n",
        "model_evaluation(y_val, y_pred_cbc2)"
      ],
      "execution_count": null,
      "outputs": []
    },
    {
      "cell_type": "markdown",
      "metadata": {
        "id": "Ynq4gKTkbtVL"
      },
      "source": [
        "# 3.5 Hyperparameter Tuning 후 모델링"
      ]
    },
    {
      "cell_type": "code",
      "metadata": {
        "id": "dpMPlsqLd6ZI"
      },
      "source": [
        "vc = y_train.value_counts().to_list()\n",
        "ratio = float(vc[0]/vc[1])\n",
        "ratio"
      ],
      "execution_count": null,
      "outputs": []
    },
    {
      "cell_type": "code",
      "metadata": {
        "id": "R3Z3e9fhbSJ9"
      },
      "source": [
        "# XGBClassifier Hyperparameter Tuning\n",
        "xgb3 = XGBClassifier(random_state=10, n_jobs=-1,n_estimators=500, max_depth=7, \n",
        "                     scale_pos_weight=ratio) # weight 조절\n",
        "\n",
        "eval_set = [(X_train_processed, y_train), \n",
        "            (X_val_processed, y_val)]\n",
        "\n",
        "xgb3.fit(X_train_processed, y_train,\n",
        "         eval_set=eval_set, eval_metric='error', early_stopping_rounds=50);\n",
        "y_pred_xgb3 = xgb3.predict(X_val_processed)\n",
        "\n",
        "\n",
        "print(\"XGBoost 검증세트 평가\")\n",
        "model_evaluation(y_val, y_pred_xgb3)"
      ],
      "execution_count": null,
      "outputs": []
    },
    {
      "cell_type": "markdown",
      "metadata": {
        "id": "Lp2ZxVKBaRbH"
      },
      "source": [
        "# 3.6 Over Sampling + Hyperparameter Tuning 후 모델링"
      ]
    },
    {
      "cell_type": "code",
      "metadata": {
        "id": "aO5kM44b1Z3n"
      },
      "source": [
        "# RandomForestClassifier Over Sampling + Hyperparameter Tuning\n",
        "rfc3 = RandomForestClassifier(random_state=10, n_jobs=-1, n_estimators=1000, max_depth=7)\n",
        "rfc3.fit(X_train_res, y_train_res)\n",
        "y_pred_rfc3 = rfc3.predict(X_val_processed)\n",
        "\n",
        "print(\"랜덤포레스트 검증세트 평가\")\n",
        "model_evaluation(y_val, y_pred_rfc3)"
      ],
      "execution_count": null,
      "outputs": []
    },
    {
      "cell_type": "code",
      "metadata": {
        "id": "SAksRn192dfP"
      },
      "source": [
        "# XGBClassifier  Over Sampling + Hyperparameter Tuning\n",
        "xgb4 = XGBClassifier(random_state=10, n_jobs=-1,n_estimators=500, max_depth=7, \n",
        "                     scale_pos_weight=ratio) # weight 조절\n",
        "\n",
        "eval_set = [(X_train_res, y_train_res), \n",
        "            (X_val_processed, y_val)]\n",
        "\n",
        "xgb4.fit(X_train_res, y_train_res,\n",
        "         eval_set=eval_set, eval_metric='error', early_stopping_rounds=50);\n",
        "y_pred_xgb4 = xgb4.predict(X_val_processed)\n",
        "\n",
        "\n",
        "print(\"XGBoost 검증세트 평가\")\n",
        "model_evaluation(y_val, y_pred_xgb4)"
      ],
      "execution_count": null,
      "outputs": []
    },
    {
      "cell_type": "markdown",
      "metadata": {
        "id": "iPSElHbZKOmA"
      },
      "source": [
        "# 4. 결과해석"
      ]
    },
    {
      "cell_type": "code",
      "metadata": {
        "id": "yvqs0drjORwV"
      },
      "source": [
        "feature_names = X_train.columns.tolist()\n",
        "pd.Series(xgb3.feature_importances_, feature_names).sort_values(ascending=False)"
      ],
      "execution_count": null,
      "outputs": []
    },
    {
      "cell_type": "code",
      "metadata": {
        "id": "TnELmheEV-xP"
      },
      "source": [
        ""
      ],
      "execution_count": null,
      "outputs": []
    },
    {
      "cell_type": "code",
      "metadata": {
        "id": "51dMEeh8jM7Q"
      },
      "source": [
        "lr_pipe = make_pipeline(\n",
        "    OrdinalEncoder(), \n",
        "    SimpleImputer(strategy='mean'),\n",
        "    StandardScaler(),\n",
        "    LogisticRegression(random_state=10, n_jobs=-1)\n",
        ")\n",
        "lr_pipe.fit(X_train, y_train);"
      ],
      "execution_count": null,
      "outputs": []
    },
    {
      "cell_type": "code",
      "metadata": {
        "id": "-958hVlzimeh"
      },
      "source": [
        "model_lr = lr_pipe.named_steps['logisticregression']\n",
        "enc = lr_pipe.named_steps['ordinalencoder']\n",
        "encoded_columns = enc.transform(X_val).columns\n",
        "coefficients = pd.Series(model_lr.coef_[0], encoded_columns)\n",
        "plt.figure(figsize=(15,15))\n",
        "coefficients.sort_values().plot.barh()\n",
        "plt.show()"
      ],
      "execution_count": null,
      "outputs": []
    },
    {
      "cell_type": "code",
      "metadata": {
        "id": "B-HWC_MXrW8N"
      },
      "source": [
        "coefficients = pd.Series(np.around(model_lr.coef_,5)[0], encoded_columns)\n",
        "coefficients.sort_values(ascending=False)"
      ],
      "execution_count": null,
      "outputs": []
    },
    {
      "cell_type": "code",
      "metadata": {
        "id": "hjqYKKn66BoM"
      },
      "source": [
        ""
      ],
      "execution_count": null,
      "outputs": []
    }
  ]
}