{
  "nbformat": 4,
  "nbformat_minor": 0,
  "metadata": {
    "colab": {
      "name": "모델링.ipynb",
      "provenance": [],
      "machine_shape": "hm",
      "authorship_tag": "ABX9TyOgzk+2cAxzkEOyvxxSAR7c",
      "include_colab_link": true
    },
    "kernelspec": {
      "name": "python3",
      "display_name": "Python 3"
    },
    "language_info": {
      "name": "python"
    }
  },
  "cells": [
    {
      "cell_type": "markdown",
      "metadata": {
        "id": "view-in-github",
        "colab_type": "text"
      },
      "source": [
        "<a href=\"https://colab.research.google.com/github/seokhee516/Project2-Credit-Scoring-System/blob/main/%EB%AA%A8%EB%8D%B8%EB%A7%81.ipynb\" target=\"_parent\"><img src=\"https://colab.research.google.com/assets/colab-badge.svg\" alt=\"Open In Colab\"/></a>"
      ]
    },
    {
      "cell_type": "markdown",
      "metadata": {
        "id": "byNc0LdXSSG-"
      },
      "source": [
        "# 0. 데이터 및 모듈 불러오기 (추후 합치기)"
      ]
    },
    {
      "cell_type": "code",
      "metadata": {
        "colab": {
          "base_uri": "https://localhost:8080/"
        },
        "id": "B51YXCwhS4zM",
        "outputId": "2483f87e-9c8a-4cb3-aeb7-3b684e536180"
      },
      "source": [
        "!pip install category_encoders"
      ],
      "execution_count": 1,
      "outputs": [
        {
          "output_type": "stream",
          "name": "stdout",
          "text": [
            "Collecting category_encoders\n",
            "  Downloading category_encoders-2.3.0-py2.py3-none-any.whl (82 kB)\n",
            "\u001b[?25l\r\u001b[K     |████                            | 10 kB 22.7 MB/s eta 0:00:01\r\u001b[K     |████████                        | 20 kB 12.2 MB/s eta 0:00:01\r\u001b[K     |████████████                    | 30 kB 9.7 MB/s eta 0:00:01\r\u001b[K     |████████████████                | 40 kB 8.6 MB/s eta 0:00:01\r\u001b[K     |████████████████████            | 51 kB 5.4 MB/s eta 0:00:01\r\u001b[K     |████████████████████████        | 61 kB 5.9 MB/s eta 0:00:01\r\u001b[K     |████████████████████████████    | 71 kB 5.5 MB/s eta 0:00:01\r\u001b[K     |███████████████████████████████▉| 81 kB 6.1 MB/s eta 0:00:01\r\u001b[K     |████████████████████████████████| 82 kB 354 kB/s \n",
            "\u001b[?25hRequirement already satisfied: numpy>=1.14.0 in /usr/local/lib/python3.7/dist-packages (from category_encoders) (1.19.5)\n",
            "Requirement already satisfied: pandas>=0.21.1 in /usr/local/lib/python3.7/dist-packages (from category_encoders) (1.1.5)\n",
            "Requirement already satisfied: scipy>=1.0.0 in /usr/local/lib/python3.7/dist-packages (from category_encoders) (1.4.1)\n",
            "Requirement already satisfied: patsy>=0.5.1 in /usr/local/lib/python3.7/dist-packages (from category_encoders) (0.5.2)\n",
            "Requirement already satisfied: statsmodels>=0.9.0 in /usr/local/lib/python3.7/dist-packages (from category_encoders) (0.10.2)\n",
            "Requirement already satisfied: scikit-learn>=0.20.0 in /usr/local/lib/python3.7/dist-packages (from category_encoders) (0.22.2.post1)\n",
            "Requirement already satisfied: pytz>=2017.2 in /usr/local/lib/python3.7/dist-packages (from pandas>=0.21.1->category_encoders) (2018.9)\n",
            "Requirement already satisfied: python-dateutil>=2.7.3 in /usr/local/lib/python3.7/dist-packages (from pandas>=0.21.1->category_encoders) (2.8.2)\n",
            "Requirement already satisfied: six in /usr/local/lib/python3.7/dist-packages (from patsy>=0.5.1->category_encoders) (1.15.0)\n",
            "Requirement already satisfied: joblib>=0.11 in /usr/local/lib/python3.7/dist-packages (from scikit-learn>=0.20.0->category_encoders) (1.0.1)\n",
            "Installing collected packages: category-encoders\n",
            "Successfully installed category-encoders-2.3.0\n"
          ]
        }
      ]
    },
    {
      "cell_type": "code",
      "metadata": {
        "id": "oqg9R0-1SIQ1"
      },
      "source": [
        "import pandas as pd\n",
        "import numpy as np\n",
        "\n",
        "from sklearn.model_selection import train_test_split\n",
        "\n",
        "from sklearn.preprocessing import StandardScaler\n",
        "from category_encoders import OrdinalEncoder\n",
        "from sklearn.impute import SimpleImputer\n",
        "from sklearn.pipeline import make_pipeline\n",
        "\n",
        "from sklearn.linear_model import LogisticRegression\n",
        "from sklearn.tree import DecisionTreeClassifier\n",
        "from sklearn.ensemble import RandomForestClassifier\n",
        "\n",
        "from sklearn.metrics import confusion_matrix\n",
        "from sklearn.metrics import accuracy_score\n",
        "from sklearn.metrics import f1_score\n",
        "\n",
        "from imblearn.over_sampling import SMOTE\n",
        "\n",
        "import warnings\n",
        "warnings.filterwarnings(action='ignore')\n",
        "\n",
        "import seaborn as sns\n",
        "import matplotlib.pyplot as plt\n",
        "%matplotlib inline"
      ],
      "execution_count": 12,
      "outputs": []
    },
    {
      "cell_type": "code",
      "metadata": {
        "colab": {
          "base_uri": "https://localhost:8080/",
          "height": 424
        },
        "id": "HRaCuG-OYOpm",
        "outputId": "13639b22-1998-486c-bab5-fd41f2a7f4a5"
      },
      "source": [
        "df = pd.read_csv('lending_club_data_preprocessed.csv').iloc[:,1:]\n",
        "print(df.shape)\n",
        "df.head()"
      ],
      "execution_count": 4,
      "outputs": [
        {
          "output_type": "stream",
          "name": "stdout",
          "text": [
            "(523215, 85)\n"
          ]
        },
        {
          "output_type": "execute_result",
          "data": {
            "text/html": [
              "<div>\n",
              "<style scoped>\n",
              "    .dataframe tbody tr th:only-of-type {\n",
              "        vertical-align: middle;\n",
              "    }\n",
              "\n",
              "    .dataframe tbody tr th {\n",
              "        vertical-align: top;\n",
              "    }\n",
              "\n",
              "    .dataframe thead th {\n",
              "        text-align: right;\n",
              "    }\n",
              "</style>\n",
              "<table border=\"1\" class=\"dataframe\">\n",
              "  <thead>\n",
              "    <tr style=\"text-align: right;\">\n",
              "      <th></th>\n",
              "      <th>id</th>\n",
              "      <th>loan_amnt</th>\n",
              "      <th>funded_amnt</th>\n",
              "      <th>funded_amnt_inv</th>\n",
              "      <th>term</th>\n",
              "      <th>int_rate</th>\n",
              "      <th>installment</th>\n",
              "      <th>grade</th>\n",
              "      <th>sub_grade</th>\n",
              "      <th>emp_length</th>\n",
              "      <th>home_ownership</th>\n",
              "      <th>annual_inc</th>\n",
              "      <th>verification_status</th>\n",
              "      <th>issue_d</th>\n",
              "      <th>loan_status</th>\n",
              "      <th>purpose</th>\n",
              "      <th>title</th>\n",
              "      <th>dti</th>\n",
              "      <th>delinq_2yrs</th>\n",
              "      <th>fico_range_low</th>\n",
              "      <th>fico_range_high</th>\n",
              "      <th>inq_last_6mths</th>\n",
              "      <th>open_acc</th>\n",
              "      <th>pub_rec</th>\n",
              "      <th>revol_bal</th>\n",
              "      <th>revol_util</th>\n",
              "      <th>total_acc</th>\n",
              "      <th>initial_list_status</th>\n",
              "      <th>last_fico_range_high</th>\n",
              "      <th>last_fico_range_low</th>\n",
              "      <th>application_type</th>\n",
              "      <th>acc_now_delinq</th>\n",
              "      <th>tot_coll_amt</th>\n",
              "      <th>tot_cur_bal</th>\n",
              "      <th>open_acc_6m</th>\n",
              "      <th>open_act_il</th>\n",
              "      <th>open_il_12m</th>\n",
              "      <th>open_il_24m</th>\n",
              "      <th>mths_since_rcnt_il</th>\n",
              "      <th>total_bal_il</th>\n",
              "      <th>...</th>\n",
              "      <th>total_rev_hi_lim</th>\n",
              "      <th>inq_fi</th>\n",
              "      <th>total_cu_tl</th>\n",
              "      <th>inq_last_12m</th>\n",
              "      <th>acc_open_past_24mths</th>\n",
              "      <th>avg_cur_bal</th>\n",
              "      <th>bc_open_to_buy</th>\n",
              "      <th>bc_util</th>\n",
              "      <th>chargeoff_within_12_mths</th>\n",
              "      <th>delinq_amnt</th>\n",
              "      <th>mo_sin_old_il_acct</th>\n",
              "      <th>mo_sin_old_rev_tl_op</th>\n",
              "      <th>mo_sin_rcnt_rev_tl_op</th>\n",
              "      <th>mo_sin_rcnt_tl</th>\n",
              "      <th>mort_acc</th>\n",
              "      <th>mths_since_recent_bc</th>\n",
              "      <th>mths_since_recent_inq</th>\n",
              "      <th>num_accts_ever_120_pd</th>\n",
              "      <th>num_actv_bc_tl</th>\n",
              "      <th>num_actv_rev_tl</th>\n",
              "      <th>num_bc_sats</th>\n",
              "      <th>num_bc_tl</th>\n",
              "      <th>num_il_tl</th>\n",
              "      <th>num_op_rev_tl</th>\n",
              "      <th>num_rev_accts</th>\n",
              "      <th>num_rev_tl_bal_gt_0</th>\n",
              "      <th>num_sats</th>\n",
              "      <th>num_tl_120dpd_2m</th>\n",
              "      <th>num_tl_30dpd</th>\n",
              "      <th>num_tl_90g_dpd_24m</th>\n",
              "      <th>num_tl_op_past_12m</th>\n",
              "      <th>pct_tl_nvr_dlq</th>\n",
              "      <th>percent_bc_gt_75</th>\n",
              "      <th>pub_rec_bankruptcies</th>\n",
              "      <th>tax_liens</th>\n",
              "      <th>tot_hi_cred_lim</th>\n",
              "      <th>total_bal_ex_mort</th>\n",
              "      <th>total_bc_limit</th>\n",
              "      <th>total_il_high_credit_limit</th>\n",
              "      <th>loan_payment</th>\n",
              "    </tr>\n",
              "  </thead>\n",
              "  <tbody>\n",
              "    <tr>\n",
              "      <th>0</th>\n",
              "      <td>120122535</td>\n",
              "      <td>12000.0</td>\n",
              "      <td>12000.0</td>\n",
              "      <td>12000.0</td>\n",
              "      <td>36 months</td>\n",
              "      <td>7.97</td>\n",
              "      <td>375.88</td>\n",
              "      <td>A</td>\n",
              "      <td>A5</td>\n",
              "      <td>10+ years</td>\n",
              "      <td>OWN</td>\n",
              "      <td>42000.0</td>\n",
              "      <td>Source Verified</td>\n",
              "      <td>Sep-2017</td>\n",
              "      <td>Fully Paid</td>\n",
              "      <td>debt_consolidation</td>\n",
              "      <td>Debt consolidation</td>\n",
              "      <td>27.74</td>\n",
              "      <td>0.0</td>\n",
              "      <td>715.0</td>\n",
              "      <td>719.0</td>\n",
              "      <td>0.0</td>\n",
              "      <td>9.0</td>\n",
              "      <td>1.0</td>\n",
              "      <td>11457.0</td>\n",
              "      <td>37.0</td>\n",
              "      <td>16.0</td>\n",
              "      <td>w</td>\n",
              "      <td>694.0</td>\n",
              "      <td>690.0</td>\n",
              "      <td>Individual</td>\n",
              "      <td>0.0</td>\n",
              "      <td>0.0</td>\n",
              "      <td>30502.0</td>\n",
              "      <td>1.0</td>\n",
              "      <td>2.0</td>\n",
              "      <td>1.0</td>\n",
              "      <td>3.0</td>\n",
              "      <td>8.0</td>\n",
              "      <td>19045.0</td>\n",
              "      <td>...</td>\n",
              "      <td>31000.0</td>\n",
              "      <td>1.0</td>\n",
              "      <td>1.0</td>\n",
              "      <td>2.0</td>\n",
              "      <td>7.0</td>\n",
              "      <td>3389.0</td>\n",
              "      <td>7144.0</td>\n",
              "      <td>53.9</td>\n",
              "      <td>0.0</td>\n",
              "      <td>0.0</td>\n",
              "      <td>131.0</td>\n",
              "      <td>255.0</td>\n",
              "      <td>1.0</td>\n",
              "      <td>1.0</td>\n",
              "      <td>0.0</td>\n",
              "      <td>14.0</td>\n",
              "      <td>8.0</td>\n",
              "      <td>0.0</td>\n",
              "      <td>2.0</td>\n",
              "      <td>6.0</td>\n",
              "      <td>2.0</td>\n",
              "      <td>2.0</td>\n",
              "      <td>7.0</td>\n",
              "      <td>7.0</td>\n",
              "      <td>9.0</td>\n",
              "      <td>6.0</td>\n",
              "      <td>9.0</td>\n",
              "      <td>0.0</td>\n",
              "      <td>0.0</td>\n",
              "      <td>0.0</td>\n",
              "      <td>3.0</td>\n",
              "      <td>100.0</td>\n",
              "      <td>0.0</td>\n",
              "      <td>1.0</td>\n",
              "      <td>0.0</td>\n",
              "      <td>57180.0</td>\n",
              "      <td>30502.0</td>\n",
              "      <td>15500.0</td>\n",
              "      <td>26180.0</td>\n",
              "      <td>Paid</td>\n",
              "    </tr>\n",
              "    <tr>\n",
              "      <th>1</th>\n",
              "      <td>119374887</td>\n",
              "      <td>32000.0</td>\n",
              "      <td>32000.0</td>\n",
              "      <td>32000.0</td>\n",
              "      <td>36 months</td>\n",
              "      <td>11.99</td>\n",
              "      <td>1062.71</td>\n",
              "      <td>B</td>\n",
              "      <td>B5</td>\n",
              "      <td>10+ years</td>\n",
              "      <td>MORTGAGE</td>\n",
              "      <td>155000.0</td>\n",
              "      <td>Source Verified</td>\n",
              "      <td>Sep-2017</td>\n",
              "      <td>Current</td>\n",
              "      <td>credit_card</td>\n",
              "      <td>Credit card refinancing</td>\n",
              "      <td>12.35</td>\n",
              "      <td>2.0</td>\n",
              "      <td>715.0</td>\n",
              "      <td>719.0</td>\n",
              "      <td>1.0</td>\n",
              "      <td>20.0</td>\n",
              "      <td>0.0</td>\n",
              "      <td>48309.0</td>\n",
              "      <td>34.1</td>\n",
              "      <td>42.0</td>\n",
              "      <td>w</td>\n",
              "      <td>674.0</td>\n",
              "      <td>670.0</td>\n",
              "      <td>Individual</td>\n",
              "      <td>0.0</td>\n",
              "      <td>0.0</td>\n",
              "      <td>405751.0</td>\n",
              "      <td>2.0</td>\n",
              "      <td>1.0</td>\n",
              "      <td>1.0</td>\n",
              "      <td>1.0</td>\n",
              "      <td>8.0</td>\n",
              "      <td>15582.0</td>\n",
              "      <td>...</td>\n",
              "      <td>142600.0</td>\n",
              "      <td>0.0</td>\n",
              "      <td>2.0</td>\n",
              "      <td>2.0</td>\n",
              "      <td>8.0</td>\n",
              "      <td>22542.0</td>\n",
              "      <td>81313.0</td>\n",
              "      <td>34.5</td>\n",
              "      <td>0.0</td>\n",
              "      <td>0.0</td>\n",
              "      <td>91.0</td>\n",
              "      <td>144.0</td>\n",
              "      <td>1.0</td>\n",
              "      <td>1.0</td>\n",
              "      <td>3.0</td>\n",
              "      <td>1.0</td>\n",
              "      <td>1.0</td>\n",
              "      <td>0.0</td>\n",
              "      <td>7.0</td>\n",
              "      <td>10.0</td>\n",
              "      <td>12.0</td>\n",
              "      <td>27.0</td>\n",
              "      <td>3.0</td>\n",
              "      <td>18.0</td>\n",
              "      <td>36.0</td>\n",
              "      <td>10.0</td>\n",
              "      <td>20.0</td>\n",
              "      <td>0.0</td>\n",
              "      <td>0.0</td>\n",
              "      <td>0.0</td>\n",
              "      <td>5.0</td>\n",
              "      <td>94.9</td>\n",
              "      <td>0.0</td>\n",
              "      <td>0.0</td>\n",
              "      <td>0.0</td>\n",
              "      <td>527034.0</td>\n",
              "      <td>63891.0</td>\n",
              "      <td>124200.0</td>\n",
              "      <td>20034.0</td>\n",
              "      <td>Paid</td>\n",
              "    </tr>\n",
              "    <tr>\n",
              "      <th>2</th>\n",
              "      <td>119321612</td>\n",
              "      <td>40000.0</td>\n",
              "      <td>40000.0</td>\n",
              "      <td>40000.0</td>\n",
              "      <td>60 months</td>\n",
              "      <td>15.05</td>\n",
              "      <td>952.65</td>\n",
              "      <td>C</td>\n",
              "      <td>C4</td>\n",
              "      <td>more than 4 years and less than 9 years</td>\n",
              "      <td>MORTGAGE</td>\n",
              "      <td>120000.0</td>\n",
              "      <td>Verified</td>\n",
              "      <td>Sep-2017</td>\n",
              "      <td>Current</td>\n",
              "      <td>debt_consolidation</td>\n",
              "      <td>Debt consolidation</td>\n",
              "      <td>31.11</td>\n",
              "      <td>0.0</td>\n",
              "      <td>765.0</td>\n",
              "      <td>769.0</td>\n",
              "      <td>0.0</td>\n",
              "      <td>12.0</td>\n",
              "      <td>0.0</td>\n",
              "      <td>13389.0</td>\n",
              "      <td>20.7</td>\n",
              "      <td>26.0</td>\n",
              "      <td>w</td>\n",
              "      <td>769.0</td>\n",
              "      <td>765.0</td>\n",
              "      <td>Individual</td>\n",
              "      <td>0.0</td>\n",
              "      <td>0.0</td>\n",
              "      <td>227506.0</td>\n",
              "      <td>2.0</td>\n",
              "      <td>3.0</td>\n",
              "      <td>2.0</td>\n",
              "      <td>4.0</td>\n",
              "      <td>3.0</td>\n",
              "      <td>140872.0</td>\n",
              "      <td>...</td>\n",
              "      <td>64600.0</td>\n",
              "      <td>2.0</td>\n",
              "      <td>3.0</td>\n",
              "      <td>1.0</td>\n",
              "      <td>4.0</td>\n",
              "      <td>20682.0</td>\n",
              "      <td>51211.0</td>\n",
              "      <td>20.7</td>\n",
              "      <td>0.0</td>\n",
              "      <td>0.0</td>\n",
              "      <td>122.0</td>\n",
              "      <td>185.0</td>\n",
              "      <td>26.0</td>\n",
              "      <td>3.0</td>\n",
              "      <td>4.0</td>\n",
              "      <td>26.0</td>\n",
              "      <td>11.0</td>\n",
              "      <td>0.0</td>\n",
              "      <td>4.0</td>\n",
              "      <td>4.0</td>\n",
              "      <td>6.0</td>\n",
              "      <td>8.0</td>\n",
              "      <td>9.0</td>\n",
              "      <td>7.0</td>\n",
              "      <td>13.0</td>\n",
              "      <td>4.0</td>\n",
              "      <td>12.0</td>\n",
              "      <td>0.0</td>\n",
              "      <td>0.0</td>\n",
              "      <td>0.0</td>\n",
              "      <td>2.0</td>\n",
              "      <td>100.0</td>\n",
              "      <td>0.0</td>\n",
              "      <td>0.0</td>\n",
              "      <td>0.0</td>\n",
              "      <td>367745.0</td>\n",
              "      <td>154261.0</td>\n",
              "      <td>64600.0</td>\n",
              "      <td>168145.0</td>\n",
              "      <td>Paid</td>\n",
              "    </tr>\n",
              "    <tr>\n",
              "      <th>3</th>\n",
              "      <td>120122034</td>\n",
              "      <td>16000.0</td>\n",
              "      <td>16000.0</td>\n",
              "      <td>16000.0</td>\n",
              "      <td>36 months</td>\n",
              "      <td>7.97</td>\n",
              "      <td>501.17</td>\n",
              "      <td>A</td>\n",
              "      <td>A5</td>\n",
              "      <td>more than 4 years and less than 9 years</td>\n",
              "      <td>RENT</td>\n",
              "      <td>79077.0</td>\n",
              "      <td>Not Verified</td>\n",
              "      <td>Sep-2017</td>\n",
              "      <td>Current</td>\n",
              "      <td>debt_consolidation</td>\n",
              "      <td>Debt consolidation</td>\n",
              "      <td>15.94</td>\n",
              "      <td>0.0</td>\n",
              "      <td>700.0</td>\n",
              "      <td>704.0</td>\n",
              "      <td>0.0</td>\n",
              "      <td>12.0</td>\n",
              "      <td>0.0</td>\n",
              "      <td>16217.0</td>\n",
              "      <td>57.7</td>\n",
              "      <td>20.0</td>\n",
              "      <td>w</td>\n",
              "      <td>674.0</td>\n",
              "      <td>670.0</td>\n",
              "      <td>Individual</td>\n",
              "      <td>0.0</td>\n",
              "      <td>0.0</td>\n",
              "      <td>128572.0</td>\n",
              "      <td>0.0</td>\n",
              "      <td>1.0</td>\n",
              "      <td>0.0</td>\n",
              "      <td>0.0</td>\n",
              "      <td>38.0</td>\n",
              "      <td>112355.0</td>\n",
              "      <td>...</td>\n",
              "      <td>28100.0</td>\n",
              "      <td>0.0</td>\n",
              "      <td>0.0</td>\n",
              "      <td>0.0</td>\n",
              "      <td>0.0</td>\n",
              "      <td>10714.0</td>\n",
              "      <td>336.0</td>\n",
              "      <td>90.9</td>\n",
              "      <td>0.0</td>\n",
              "      <td>0.0</td>\n",
              "      <td>145.0</td>\n",
              "      <td>207.0</td>\n",
              "      <td>32.0</td>\n",
              "      <td>32.0</td>\n",
              "      <td>0.0</td>\n",
              "      <td>206.0</td>\n",
              "      <td>NaN</td>\n",
              "      <td>2.0</td>\n",
              "      <td>2.0</td>\n",
              "      <td>11.0</td>\n",
              "      <td>2.0</td>\n",
              "      <td>2.0</td>\n",
              "      <td>9.0</td>\n",
              "      <td>11.0</td>\n",
              "      <td>11.0</td>\n",
              "      <td>11.0</td>\n",
              "      <td>12.0</td>\n",
              "      <td>0.0</td>\n",
              "      <td>0.0</td>\n",
              "      <td>0.0</td>\n",
              "      <td>0.0</td>\n",
              "      <td>78.9</td>\n",
              "      <td>100.0</td>\n",
              "      <td>0.0</td>\n",
              "      <td>0.0</td>\n",
              "      <td>125018.0</td>\n",
              "      <td>128572.0</td>\n",
              "      <td>3700.0</td>\n",
              "      <td>96918.0</td>\n",
              "      <td>Paid</td>\n",
              "    </tr>\n",
              "    <tr>\n",
              "      <th>4</th>\n",
              "      <td>118659541</td>\n",
              "      <td>33000.0</td>\n",
              "      <td>33000.0</td>\n",
              "      <td>33000.0</td>\n",
              "      <td>36 months</td>\n",
              "      <td>7.21</td>\n",
              "      <td>1022.12</td>\n",
              "      <td>A</td>\n",
              "      <td>A3</td>\n",
              "      <td>less than 3 years</td>\n",
              "      <td>MORTGAGE</td>\n",
              "      <td>107000.0</td>\n",
              "      <td>Verified</td>\n",
              "      <td>Sep-2017</td>\n",
              "      <td>Late (31-120 days)</td>\n",
              "      <td>debt_consolidation</td>\n",
              "      <td>Debt consolidation</td>\n",
              "      <td>19.06</td>\n",
              "      <td>0.0</td>\n",
              "      <td>785.0</td>\n",
              "      <td>789.0</td>\n",
              "      <td>0.0</td>\n",
              "      <td>25.0</td>\n",
              "      <td>0.0</td>\n",
              "      <td>18533.0</td>\n",
              "      <td>16.1</td>\n",
              "      <td>52.0</td>\n",
              "      <td>w</td>\n",
              "      <td>709.0</td>\n",
              "      <td>705.0</td>\n",
              "      <td>Joint App</td>\n",
              "      <td>0.0</td>\n",
              "      <td>0.0</td>\n",
              "      <td>244459.0</td>\n",
              "      <td>2.0</td>\n",
              "      <td>2.0</td>\n",
              "      <td>0.0</td>\n",
              "      <td>0.0</td>\n",
              "      <td>46.0</td>\n",
              "      <td>29686.0</td>\n",
              "      <td>...</td>\n",
              "      <td>115000.0</td>\n",
              "      <td>0.0</td>\n",
              "      <td>1.0</td>\n",
              "      <td>0.0</td>\n",
              "      <td>6.0</td>\n",
              "      <td>9778.0</td>\n",
              "      <td>65368.0</td>\n",
              "      <td>20.0</td>\n",
              "      <td>0.0</td>\n",
              "      <td>0.0</td>\n",
              "      <td>141.0</td>\n",
              "      <td>133.0</td>\n",
              "      <td>5.0</td>\n",
              "      <td>5.0</td>\n",
              "      <td>2.0</td>\n",
              "      <td>6.0</td>\n",
              "      <td>19.0</td>\n",
              "      <td>0.0</td>\n",
              "      <td>4.0</td>\n",
              "      <td>10.0</td>\n",
              "      <td>10.0</td>\n",
              "      <td>19.0</td>\n",
              "      <td>12.0</td>\n",
              "      <td>22.0</td>\n",
              "      <td>38.0</td>\n",
              "      <td>10.0</td>\n",
              "      <td>25.0</td>\n",
              "      <td>0.0</td>\n",
              "      <td>0.0</td>\n",
              "      <td>0.0</td>\n",
              "      <td>3.0</td>\n",
              "      <td>100.0</td>\n",
              "      <td>0.0</td>\n",
              "      <td>0.0</td>\n",
              "      <td>0.0</td>\n",
              "      <td>404510.0</td>\n",
              "      <td>48219.0</td>\n",
              "      <td>81700.0</td>\n",
              "      <td>73015.0</td>\n",
              "      <td>Default</td>\n",
              "    </tr>\n",
              "  </tbody>\n",
              "</table>\n",
              "<p>5 rows × 85 columns</p>\n",
              "</div>"
            ],
            "text/plain": [
              "          id  loan_amnt  ...  total_il_high_credit_limit  loan_payment\n",
              "0  120122535    12000.0  ...                     26180.0          Paid\n",
              "1  119374887    32000.0  ...                     20034.0          Paid\n",
              "2  119321612    40000.0  ...                    168145.0          Paid\n",
              "3  120122034    16000.0  ...                     96918.0          Paid\n",
              "4  118659541    33000.0  ...                     73015.0       Default\n",
              "\n",
              "[5 rows x 85 columns]"
            ]
          },
          "metadata": {},
          "execution_count": 4
        }
      ]
    },
    {
      "cell_type": "markdown",
      "metadata": {
        "id": "NpzmDsQWS82h"
      },
      "source": [
        "# 3. 모델링"
      ]
    },
    {
      "cell_type": "code",
      "metadata": {
        "id": "-qLjUGkMV682"
      },
      "source": [
        "# 평가지표 함수\n",
        "def model_evaluation(label, predict):\n",
        "    cf_matrix = confusion_matrix(label, predict)\n",
        "    Accuracy = (cf_matrix[0][0] + cf_matrix[1][1]) / sum(sum(cf_matrix))\n",
        "    Precision = cf_matrix[1][1] / (cf_matrix[1][1] + cf_matrix[0][1])\n",
        "    Recall = cf_matrix[1][1] / (cf_matrix[1][1] + cf_matrix[1][0])\n",
        "    F1_Score = (2 * Recall * Precision) / (Recall + Precision)\n",
        "    print(\"Model_Evaluation with Label: Default\")\n",
        "    print(\"Accuracy: \", Accuracy)\n",
        "    print(\"Precision: \", Precision)\n",
        "    print(\"Recall: \", Recall)\n",
        "    print(\"F1-Score: \", F1_Score)"
      ],
      "execution_count": 13,
      "outputs": []
    },
    {
      "cell_type": "markdown",
      "metadata": {
        "id": "cRlOmhYfTDtL"
      },
      "source": [
        "## 3.1 타겟 지정 및 데이터 세트 분할"
      ]
    },
    {
      "cell_type": "code",
      "metadata": {
        "id": "08SeADYPZrIk"
      },
      "source": [
        "# test set 만들기\n",
        "test = df[(df['issue_d'] == 'Sep-2020') | (df['issue_d'] == 'May-2020')]\n",
        "train = df.drop(test.index)\n",
        "\n",
        "# validation set 만들기\n",
        "train, val = train_test_split(train, train_size = 0.8, random_state=2)"
      ],
      "execution_count": 6,
      "outputs": []
    },
    {
      "cell_type": "code",
      "metadata": {
        "id": "fBPnopbbehhZ"
      },
      "source": [
        "# target 지정 및 데이터 세트 분할\n",
        "# loan_payment: Target, id: Always unique, issue_d: Date, grade: Duplicative of sub_grade\n",
        "target= 'loan_payment'\n",
        "features = train.drop(columns=['loan_payment','id','issue_d','grade']).columns\n",
        "\n",
        "X_train = train[features]\n",
        "y_train = train[target]\n",
        "X_val = val[features]\n",
        "y_val = val[target]\n",
        "X_test = test[features]\n",
        "y_test = test[target]"
      ],
      "execution_count": 7,
      "outputs": []
    },
    {
      "cell_type": "code",
      "metadata": {
        "colab": {
          "base_uri": "https://localhost:8080/"
        },
        "id": "iV3ivyBvizVJ",
        "outputId": "6ff5e1cd-8eb8-497b-d316-e6dc7b98b0bc"
      },
      "source": [
        "print('X_train shape', X_train.shape)\n",
        "print('X_val shape', X_val.shape)\n",
        "print('X_test shape', X_test.shape)"
      ],
      "execution_count": 8,
      "outputs": [
        {
          "output_type": "stream",
          "name": "stdout",
          "text": [
            "X_train shape (406625, 81)\n",
            "X_val shape (101657, 81)\n",
            "X_test shape (14933, 81)\n"
          ]
        }
      ]
    },
    {
      "cell_type": "code",
      "metadata": {
        "id": "jyi3j7huS8V_"
      },
      "source": [
        "# Data Processing Pipeline\n",
        "processor = make_pipeline(\n",
        "    OrdinalEncoder(), \n",
        "    SimpleImputer(strategy='mean')\n",
        ")\n",
        "X_train_processed = processor.fit_transform(X_train)\n",
        "X_val_processed = processor.transform(X_val)\n",
        "\n",
        "# Scailing\n",
        "scaler = StandardScaler()\n",
        "X_train_scaled = scaler.fit_transform(X_train_processed)\n",
        "X_val_scaled = scaler.transform(X_val_processed)"
      ],
      "execution_count": 9,
      "outputs": []
    },
    {
      "cell_type": "markdown",
      "metadata": {
        "id": "qVjjxMZEkJg_"
      },
      "source": [
        "## 3.2 Majority class baseline"
      ]
    },
    {
      "cell_type": "code",
      "metadata": {
        "colab": {
          "base_uri": "https://localhost:8080/"
        },
        "id": "CwRqaibljmA9",
        "outputId": "b7d7889f-1ffe-4297-cb56-dcba69737f1a"
      },
      "source": [
        "y_train.value_counts(normalize=True)"
      ],
      "execution_count": 10,
      "outputs": [
        {
          "output_type": "execute_result",
          "data": {
            "text/plain": [
              "Paid       0.901137\n",
              "Default    0.098863\n",
              "Name: loan_payment, dtype: float64"
            ]
          },
          "metadata": {},
          "execution_count": 10
        }
      ]
    },
    {
      "cell_type": "code",
      "metadata": {
        "colab": {
          "base_uri": "https://localhost:8080/",
          "height": 298
        },
        "id": "WgR1AjhqkVpY",
        "outputId": "af1055f6-9558-49e8-da24-59fa17766d98"
      },
      "source": [
        "sns.countplot(x=y_train)"
      ],
      "execution_count": null,
      "outputs": [
        {
          "output_type": "execute_result",
          "data": {
            "text/plain": [
              "<matplotlib.axes._subplots.AxesSubplot at 0x7f02f7008910>"
            ]
          },
          "metadata": {},
          "execution_count": 23
        },
        {
          "output_type": "display_data",
          "data": {
            "image/png": "[encoded data removed]",
            "text/plain": [
              "<Figure size 432x288 with 1 Axes>"
            ]
          },
          "metadata": {
            "needs_background": "light"
          }
        }
      ]
    },
    {
      "cell_type": "code",
      "metadata": {
        "colab": {
          "base_uri": "https://localhost:8080/"
        },
        "id": "0RSJb4UekhGk",
        "outputId": "81604c6b-9951-490c-8c38-1e662fea0b68"
      },
      "source": [
        "# 기준모델 학습세트\n",
        "major = y_train.mode()[0]\n",
        "y_pred = [major] *len(y_train)\n",
        "print(\"기준모델 학습세트 평가\")\n",
        "model_evaluation(y_train, y_pred)\n",
        "\n",
        "# 기준모델 검증세트\n",
        "y_val = val[target]\n",
        "y_pred = [major] * len(y_val)\n",
        "print(\"기준모델 검증세트 평가\")\n",
        "model_evaluation(y_val, y_pred)"
      ],
      "execution_count": 14,
      "outputs": [
        {
          "output_type": "stream",
          "name": "stdout",
          "text": [
            "기준모델 학습세트 평가\n",
            "Model_Evaluation with Label:1\n",
            "Accuracy:  0.901137411620043\n",
            "Precision:  0.901137411620043\n",
            "Recall:  1.0\n",
            "F1-Score:  0.9479981889916564\n",
            "기준모델 검증세트 평가\n",
            "Model_Evaluation with Label:1\n",
            "Accuracy:  0.902623528138741\n",
            "Precision:  0.902623528138741\n",
            "Recall:  1.0\n",
            "F1-Score:  0.9488198950443347\n"
          ]
        }
      ]
    },
    {
      "cell_type": "markdown",
      "metadata": {
        "id": "nuFpqTg-lAlV"
      },
      "source": [
        "## 3.3 Logistic Regression"
      ]
    },
    {
      "cell_type": "code",
      "metadata": {
        "colab": {
          "base_uri": "https://localhost:8080/"
        },
        "id": "elkU03Nam3MP",
        "outputId": "495fd8a8-997b-40cc-880a-47d7282256cc"
      },
      "source": [
        "lr = LogisticRegression(random_state=1, n_jobs=-1)\n",
        "lr.fit(X_train_scaled, y_train)\n",
        "y_pred_lr = lr.predict(X_val_scaled)\n",
        "\n",
        "print(\"로지스틱 검증세트 평가\")\n",
        "model_evaluation(y_val, y_pred_lr)"
      ],
      "execution_count": 16,
      "outputs": [
        {
          "output_type": "stream",
          "name": "stdout",
          "text": [
            "로지스틱 검증세트 평가\n",
            "Model_Evaluation with Label:1\n",
            "Accuracy:  0.9999803259982096\n",
            "Precision:  1.0\n",
            "Recall:  0.9999782035353866\n",
            "F1-Score:  0.9999891016489205\n"
          ]
        }
      ]
    },
    {
      "cell_type": "code",
      "metadata": {
        "id": "8QJoEilFJnLP",
        "outputId": "c11d5435-c1a3-4a96-e936-5df5f96b65bc",
        "colab": {
          "base_uri": "https://localhost:8080/"
        }
      },
      "source": [
        "dtc = DecisionTreeClassifier(random_state=1)\n",
        "dtc.fit(X_train_scaled, y_train)\n",
        "y_pred_dtc = dtc.predict(X_val_scaled)\n",
        "\n",
        "print(\"결정트리 검증세트 평가\")\n",
        "model_evaluation(y_val, y_pred_dtc)"
      ],
      "execution_count": 40,
      "outputs": [
        {
          "output_type": "stream",
          "name": "stdout",
          "text": [
            "결정트리 검증세트 평가\n",
            "Model_Evaluation with Label:1\n",
            "Accuracy:  1.0\n",
            "Precision:  1.0\n",
            "Recall:  1.0\n",
            "F1-Score:  1.0\n"
          ]
        }
      ]
    },
    {
      "cell_type": "markdown",
      "metadata": {
        "id": "9_wotVEsXxpb"
      },
      "source": [
        "# 4. SMOTE를 이용한 Oversampling 후, 모델링"
      ]
    },
    {
      "cell_type": "code",
      "metadata": {
        "id": "qYNayILHYovB",
        "outputId": "9182c497-9610-4540-bad2-32cb0f3fe4ea",
        "colab": {
          "base_uri": "https://localhost:8080/"
        }
      },
      "source": [
        "print(\"OverSampling 전, 'Default' 라벨의 수: {}\".format(sum(y_train == 'Default')))\n",
        "print(\"OverSampling 전, 'Paid' 라벨의 수: {}\".format(sum(y_train == 'Paid')))"
      ],
      "execution_count": 21,
      "outputs": [
        {
          "output_type": "stream",
          "name": "stdout",
          "text": [
            "OverSampling 전, 'Default' 라벨의 수: 40200\n",
            "OverSampling 전, 'Paid' 라벨의 수: 366425\n"
          ]
        }
      ]
    },
    {
      "cell_type": "code",
      "metadata": {
        "id": "mSkfwakMaAGO"
      },
      "source": [
        "# SMOTE 알고리즘 활용하여 Oversampling 진행\n",
        "sm = SMOTE(random_state = 10) \n",
        "X_train_res, y_train_res = sm.fit_sample(X_train_processed, y_train.ravel()) "
      ],
      "execution_count": 64,
      "outputs": []
    },
    {
      "cell_type": "code",
      "metadata": {
        "id": "AmWX2MBVaLkd",
        "outputId": "6b5bc417-5e54-42f4-abea-7873da7d9f46",
        "colab": {
          "base_uri": "https://localhost:8080/"
        }
      },
      "source": [
        "print(\"OverSampling 후, 'Default' 라벨의 수: {}\".format(sum(y_train_res == 'Default')))\n",
        "print(\"OverSampling 후, 'Paid' 라벨의 수: {}\".format(sum(y_train_res == 'Paid')))"
      ],
      "execution_count": 65,
      "outputs": [
        {
          "output_type": "stream",
          "name": "stdout",
          "text": [
            "OverSampling 후, 'Default' 라벨의 수: 366425\n",
            "OverSampling 후, 'Paid' 라벨의 수: 366425\n"
          ]
        }
      ]
    },
    {
      "cell_type": "code",
      "metadata": {
        "id": "8yWbjZdOahm7",
        "outputId": "a248f9d2-b8cc-4705-f72c-650a1f8090ef",
        "colab": {
          "base_uri": "https://localhost:8080/"
        }
      },
      "source": [
        "pd.Series(y_train_res).value_counts(normalize=True)"
      ],
      "execution_count": 66,
      "outputs": [
        {
          "output_type": "execute_result",
          "data": {
            "text/plain": [
              "Paid       0.5\n",
              "Default    0.5\n",
              "dtype: float64"
            ]
          },
          "metadata": {},
          "execution_count": 66
        }
      ]
    },
    {
      "cell_type": "code",
      "metadata": {
        "id": "uk5EXx_teUWK",
        "outputId": "9468a7ec-d006-4076-d652-685f5b02f061",
        "colab": {
          "base_uri": "https://localhost:8080/",
          "height": 283
        }
      },
      "source": [
        "sns.countplot(x=pd.Series(y_train_res))"
      ],
      "execution_count": 67,
      "outputs": [
        {
          "output_type": "execute_result",
          "data": {
            "text/plain": [
              "<matplotlib.axes._subplots.AxesSubplot at 0x7fde3b5570d0>"
            ]
          },
          "metadata": {},
          "execution_count": 67
        },
        {
          "output_type": "display_data",
          "data": {
            "image/png": "[encoded data removed]",
            "text/plain": [
              "<Figure size 432x288 with 1 Axes>"
            ]
          },
          "metadata": {
            "needs_background": "light"
          }
        }
      ]
    },
    {
      "cell_type": "code",
      "metadata": {
        "id": "GYPVMjLLfH3q",
        "outputId": "e7fb46f2-5d61-436f-fbee-7c9fe6b30500",
        "colab": {
          "base_uri": "https://localhost:8080/"
        }
      },
      "source": [
        "lr2 = LogisticRegression(random_state=10, n_jobs=-1)\n",
        "lr2.fit(X_train_res, y_train_res)\n",
        "y_pred_lr2 = lr2.predict(X_val_scaled)\n",
        "\n",
        "print(\"로지스틱 검증세트 평가\")\n",
        "model_evaluation(y_val, y_pred_lr2)"
      ],
      "execution_count": 54,
      "outputs": [
        {
          "output_type": "stream",
          "name": "stdout",
          "text": [
            "로지스틱 검증세트 평가\n",
            "Model_Evaluation with Label:1\n",
            "Accuracy:  0.6034606569149198\n",
            "Precision:  0.988529104548476\n",
            "Recall:  0.5672638897970749\n",
            "F1-Score:  0.7208630801936113\n"
          ]
        }
      ]
    },
    {
      "cell_type": "code",
      "metadata": {
        "id": "9TJ-I04GPLXs",
        "outputId": "4879aeee-cc4a-4fb2-8844-c4bcac5ddbe9",
        "colab": {
          "base_uri": "https://localhost:8080/"
        }
      },
      "source": [
        "lr2 = LogisticRegression(random_state=10, n_jobs=-1)\n",
        "lr2.fit(X_train_res, y_train_res)\n",
        "y_pred_lr2 = lr2.predict(X_val_scaled)\n",
        "\n",
        "print(\"로지스틱 검증세트 평가\")\n",
        "model_evaluation(y_val, y_pred_lr2)"
      ],
      "execution_count": 71,
      "outputs": [
        {
          "output_type": "stream",
          "name": "stdout",
          "text": [
            "로지스틱 검증세트 평가\n",
            "Model_Evaluation with Label:1\n",
            "Accuracy:  0.6946594922140138\n",
            "Precision:  0.9911505856467999\n",
            "Recall:  0.6676802022711916\n",
            "F1-Score:  0.7978771895552517\n"
          ]
        }
      ]
    },
    {
      "cell_type": "code",
      "metadata": {
        "id": "wfuh4qLkJIKh",
        "outputId": "897da938-245f-4207-c245-692fbce0af07",
        "colab": {
          "base_uri": "https://localhost:8080/"
        }
      },
      "source": [
        "dtc2 = DecisionTreeClassifier(random_state=10)\n",
        "dtc2.fit(X_train_res, y_train_res)\n",
        "y_pred_dtc2 = dtc2.predict(X_val_processed)\n",
        "\n",
        "print(\"결정트리 검증세트 평가\")\n",
        "model_evaluation(y_val, y_pred_dtc2)"
      ],
      "execution_count": 69,
      "outputs": [
        {
          "output_type": "stream",
          "name": "stdout",
          "text": [
            "결정트리 검증세트 평가\n",
            "Model_Evaluation with Label:1\n",
            "Accuracy:  1.0\n",
            "Precision:  1.0\n",
            "Recall:  1.0\n",
            "F1-Score:  1.0\n"
          ]
        }
      ]
    },
    {
      "cell_type": "code",
      "metadata": {
        "id": "yIVZTmLTKUYX",
        "outputId": "e04000b2-f3eb-4e40-c772-d3fe6d53993e",
        "colab": {
          "base_uri": "https://localhost:8080/"
        }
      },
      "source": [
        "rfc2 = RandomForestClassifier(random_state=1, n_jobs=-1)\n",
        "rfc2.fit(X_train_res, y_train_res)\n",
        "y_pred_rfc2 = rfc2.predict(X_val_scaled)\n",
        "\n",
        "print(\"결정트리 검증세트 평가\")\n",
        "model_evaluation(y_val, y_pred_rfc2)"
      ],
      "execution_count": 45,
      "outputs": [
        {
          "output_type": "stream",
          "name": "stdout",
          "text": [
            "결정트리 검증세트 평가\n",
            "Model_Evaluation with Label:1\n",
            "Accuracy:  0.9204875217643644\n",
            "Precision:  0.9190412756282489\n",
            "Recall:  1.0\n",
            "F1-Score:  0.957812932217809\n"
          ]
        }
      ]
    },
    {
      "cell_type": "code",
      "metadata": {
        "id": "T7kg3kYBLDRe",
        "outputId": "82006be0-e84b-46bc-8677-0198d106acf1",
        "colab": {
          "base_uri": "https://localhost:8080/"
        }
      },
      "source": [
        "rfc2 = RandomForestClassifier(random_state=1, n_jobs=-1, max_depth=5, n_estimators=300)\n",
        "rfc2.fit(X_train_res, y_train_res)\n",
        "y_pred_rfc2 = rfc2.predict(X_val_scaled)\n",
        "\n",
        "print(\"랜덤포레스트 검증세트 평가\")\n",
        "model_evaluation(y_val, y_pred_rfc2)"
      ],
      "execution_count": 74,
      "outputs": [
        {
          "output_type": "stream",
          "name": "stdout",
          "text": [
            "랜덤포레스트 검증세트 평가\n",
            "Model_Evaluation with Label:1\n",
            "Accuracy:  0.9089979047188094\n",
            "Precision:  0.919699266478793\n",
            "Recall:  0.9852002005274745\n",
            "F1-Score:  0.9513235920884394\n"
          ]
        }
      ]
    },
    {
      "cell_type": "code",
      "metadata": {
        "id": "CmQxPx1uMaLD",
        "outputId": "8aa27366-8b9a-4c0a-b603-4400ecc9e135",
        "colab": {
          "base_uri": "https://localhost:8080/"
        }
      },
      "source": [
        "y_pred_rfc2 = rfc2.predict(X_val_scaled)\n",
        "model_evaluation(y_val, y_pred_dtc2)"
      ],
      "execution_count": 49,
      "outputs": [
        {
          "output_type": "stream",
          "name": "stdout",
          "text": [
            "Model_Evaluation with Label:1\n",
            "Accuracy:  1.0\n",
            "Precision:  1.0\n",
            "Recall:  1.0\n",
            "F1-Score:  1.0\n"
          ]
        }
      ]
    },
    {
      "cell_type": "code",
      "metadata": {
        "id": "pkiLzEK9MeSt"
      },
      "source": [
        ""
      ],
      "execution_count": null,
      "outputs": []
    }
  ]
}